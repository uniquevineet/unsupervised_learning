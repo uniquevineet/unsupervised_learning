{
 "cells": [
  {
   "cell_type": "markdown",
   "metadata": {},
   "source": [
    "# Unsupervised Learning algorithms - Kmeans Clustering, Agglomerative Clustering, PCA on Online Shoppers Intension dataset and Model Building"
   ]
  },
  {
   "cell_type": "markdown",
   "metadata": {},
   "source": [
    "### Importing important libraries :"
   ]
  },
  {
   "cell_type": "code",
   "execution_count": 1,
   "metadata": {},
   "outputs": [],
   "source": [
    "import numpy as np\n",
    "import pandas as pd\n",
    "import matplotlib.pyplot as plt\n",
    "%matplotlib inline\n",
    "import seaborn as sns\n",
    "from mpl_toolkits.mplot3d import Axes3D \n",
    "import scipy\n",
    "from scipy.spatial.distance import pdist,cdist\n",
    "from scipy.cluster.hierarchy import dendrogram,linkage\n",
    "from scipy.cluster.hierarchy import fcluster\n",
    "from scipy.cluster.hierarchy import cophenet\n",
    "from sklearn.cluster import AgglomerativeClustering\n",
    "from sklearn.decomposition import PCA\n",
    "from sklearn.cluster import KMeans"
   ]
  },
  {
   "cell_type": "markdown",
   "metadata": {},
   "source": [
    "### Dataset Analysis :"
   ]
  },
  {
   "cell_type": "code",
   "execution_count": 20,
   "metadata": {},
   "outputs": [
    {
     "data": {
      "text/html": [
       "<div>\n",
       "<style scoped>\n",
       "    .dataframe tbody tr th:only-of-type {\n",
       "        vertical-align: middle;\n",
       "    }\n",
       "\n",
       "    .dataframe tbody tr th {\n",
       "        vertical-align: top;\n",
       "    }\n",
       "\n",
       "    .dataframe thead th {\n",
       "        text-align: right;\n",
       "    }\n",
       "</style>\n",
       "<table border=\"1\" class=\"dataframe\">\n",
       "  <thead>\n",
       "    <tr style=\"text-align: right;\">\n",
       "      <th></th>\n",
       "      <th>Administrative</th>\n",
       "      <th>Administrative_Duration</th>\n",
       "      <th>Informational</th>\n",
       "      <th>Informational_Duration</th>\n",
       "      <th>ProductRelated</th>\n",
       "      <th>ProductRelated_Duration</th>\n",
       "      <th>BounceRates</th>\n",
       "      <th>ExitRates</th>\n",
       "      <th>PageValues</th>\n",
       "      <th>SpecialDay</th>\n",
       "      <th>Month</th>\n",
       "      <th>OperatingSystems</th>\n",
       "      <th>Browser</th>\n",
       "      <th>Region</th>\n",
       "      <th>TrafficType</th>\n",
       "      <th>VisitorType</th>\n",
       "      <th>Weekend</th>\n",
       "      <th>Revenue</th>\n",
       "    </tr>\n",
       "  </thead>\n",
       "  <tbody>\n",
       "    <tr>\n",
       "      <th>0</th>\n",
       "      <td>0</td>\n",
       "      <td>0.0</td>\n",
       "      <td>0</td>\n",
       "      <td>0.0</td>\n",
       "      <td>1</td>\n",
       "      <td>0.000000</td>\n",
       "      <td>0.20</td>\n",
       "      <td>0.20</td>\n",
       "      <td>0.0</td>\n",
       "      <td>0.0</td>\n",
       "      <td>Feb</td>\n",
       "      <td>1</td>\n",
       "      <td>1</td>\n",
       "      <td>1</td>\n",
       "      <td>1</td>\n",
       "      <td>Returning_Visitor</td>\n",
       "      <td>False</td>\n",
       "      <td>False</td>\n",
       "    </tr>\n",
       "    <tr>\n",
       "      <th>1</th>\n",
       "      <td>0</td>\n",
       "      <td>0.0</td>\n",
       "      <td>0</td>\n",
       "      <td>0.0</td>\n",
       "      <td>2</td>\n",
       "      <td>64.000000</td>\n",
       "      <td>0.00</td>\n",
       "      <td>0.10</td>\n",
       "      <td>0.0</td>\n",
       "      <td>0.0</td>\n",
       "      <td>Feb</td>\n",
       "      <td>2</td>\n",
       "      <td>2</td>\n",
       "      <td>1</td>\n",
       "      <td>2</td>\n",
       "      <td>Returning_Visitor</td>\n",
       "      <td>False</td>\n",
       "      <td>False</td>\n",
       "    </tr>\n",
       "    <tr>\n",
       "      <th>2</th>\n",
       "      <td>0</td>\n",
       "      <td>0.0</td>\n",
       "      <td>0</td>\n",
       "      <td>0.0</td>\n",
       "      <td>1</td>\n",
       "      <td>0.000000</td>\n",
       "      <td>0.20</td>\n",
       "      <td>0.20</td>\n",
       "      <td>0.0</td>\n",
       "      <td>0.0</td>\n",
       "      <td>Feb</td>\n",
       "      <td>4</td>\n",
       "      <td>1</td>\n",
       "      <td>9</td>\n",
       "      <td>3</td>\n",
       "      <td>Returning_Visitor</td>\n",
       "      <td>False</td>\n",
       "      <td>False</td>\n",
       "    </tr>\n",
       "    <tr>\n",
       "      <th>3</th>\n",
       "      <td>0</td>\n",
       "      <td>0.0</td>\n",
       "      <td>0</td>\n",
       "      <td>0.0</td>\n",
       "      <td>2</td>\n",
       "      <td>2.666667</td>\n",
       "      <td>0.05</td>\n",
       "      <td>0.14</td>\n",
       "      <td>0.0</td>\n",
       "      <td>0.0</td>\n",
       "      <td>Feb</td>\n",
       "      <td>3</td>\n",
       "      <td>2</td>\n",
       "      <td>2</td>\n",
       "      <td>4</td>\n",
       "      <td>Returning_Visitor</td>\n",
       "      <td>False</td>\n",
       "      <td>False</td>\n",
       "    </tr>\n",
       "    <tr>\n",
       "      <th>4</th>\n",
       "      <td>0</td>\n",
       "      <td>0.0</td>\n",
       "      <td>0</td>\n",
       "      <td>0.0</td>\n",
       "      <td>10</td>\n",
       "      <td>627.500000</td>\n",
       "      <td>0.02</td>\n",
       "      <td>0.05</td>\n",
       "      <td>0.0</td>\n",
       "      <td>0.0</td>\n",
       "      <td>Feb</td>\n",
       "      <td>3</td>\n",
       "      <td>3</td>\n",
       "      <td>1</td>\n",
       "      <td>4</td>\n",
       "      <td>Returning_Visitor</td>\n",
       "      <td>True</td>\n",
       "      <td>False</td>\n",
       "    </tr>\n",
       "  </tbody>\n",
       "</table>\n",
       "</div>"
      ],
      "text/plain": [
       "   Administrative  Administrative_Duration  Informational  \\\n",
       "0               0                      0.0              0   \n",
       "1               0                      0.0              0   \n",
       "2               0                      0.0              0   \n",
       "3               0                      0.0              0   \n",
       "4               0                      0.0              0   \n",
       "\n",
       "   Informational_Duration  ProductRelated  ProductRelated_Duration  \\\n",
       "0                     0.0               1                 0.000000   \n",
       "1                     0.0               2                64.000000   \n",
       "2                     0.0               1                 0.000000   \n",
       "3                     0.0               2                 2.666667   \n",
       "4                     0.0              10               627.500000   \n",
       "\n",
       "   BounceRates  ExitRates  PageValues  SpecialDay Month  OperatingSystems  \\\n",
       "0         0.20       0.20         0.0         0.0   Feb                 1   \n",
       "1         0.00       0.10         0.0         0.0   Feb                 2   \n",
       "2         0.20       0.20         0.0         0.0   Feb                 4   \n",
       "3         0.05       0.14         0.0         0.0   Feb                 3   \n",
       "4         0.02       0.05         0.0         0.0   Feb                 3   \n",
       "\n",
       "   Browser  Region  TrafficType        VisitorType  Weekend  Revenue  \n",
       "0        1       1            1  Returning_Visitor    False    False  \n",
       "1        2       1            2  Returning_Visitor    False    False  \n",
       "2        1       9            3  Returning_Visitor    False    False  \n",
       "3        2       2            4  Returning_Visitor    False    False  \n",
       "4        3       1            4  Returning_Visitor     True    False  "
      ]
     },
     "execution_count": 20,
     "metadata": {},
     "output_type": "execute_result"
    }
   ],
   "source": [
    "df = pd.read_csv('online_shoppers_intention_given.csv')\n",
    "df.head()"
   ]
  },
  {
   "cell_type": "code",
   "execution_count": 21,
   "metadata": {},
   "outputs": [
    {
     "name": "stdout",
     "output_type": "stream",
     "text": [
      "<class 'pandas.core.frame.DataFrame'>\n",
      "RangeIndex: 12330 entries, 0 to 12329\n",
      "Data columns (total 18 columns):\n",
      "Administrative             12330 non-null int64\n",
      "Administrative_Duration    12330 non-null float64\n",
      "Informational              12330 non-null int64\n",
      "Informational_Duration     12330 non-null float64\n",
      "ProductRelated             12330 non-null int64\n",
      "ProductRelated_Duration    12330 non-null float64\n",
      "BounceRates                12330 non-null float64\n",
      "ExitRates                  12330 non-null float64\n",
      "PageValues                 12330 non-null float64\n",
      "SpecialDay                 12330 non-null float64\n",
      "Month                      12330 non-null object\n",
      "OperatingSystems           12330 non-null int64\n",
      "Browser                    12330 non-null int64\n",
      "Region                     12330 non-null int64\n",
      "TrafficType                12330 non-null int64\n",
      "VisitorType                12330 non-null object\n",
      "Weekend                    12330 non-null bool\n",
      "Revenue                    12330 non-null bool\n",
      "dtypes: bool(2), float64(7), int64(7), object(2)\n",
      "memory usage: 1.5+ MB\n"
     ]
    }
   ],
   "source": [
    "df.info()"
   ]
  },
  {
   "cell_type": "code",
   "execution_count": 22,
   "metadata": {},
   "outputs": [
    {
     "name": "stdout",
     "output_type": "stream",
     "text": [
      "Rows and columns for the dataset are : (12330, 18)\n"
     ]
    }
   ],
   "source": [
    "print('Rows and columns for the dataset are :',df.shape)"
   ]
  },
  {
   "cell_type": "markdown",
   "metadata": {},
   "source": [
    "### Checking for null values"
   ]
  },
  {
   "cell_type": "code",
   "execution_count": 23,
   "metadata": {},
   "outputs": [
    {
     "data": {
      "text/plain": [
       "Administrative             0\n",
       "Administrative_Duration    0\n",
       "Informational              0\n",
       "Informational_Duration     0\n",
       "ProductRelated             0\n",
       "ProductRelated_Duration    0\n",
       "BounceRates                0\n",
       "ExitRates                  0\n",
       "PageValues                 0\n",
       "SpecialDay                 0\n",
       "Month                      0\n",
       "OperatingSystems           0\n",
       "Browser                    0\n",
       "Region                     0\n",
       "TrafficType                0\n",
       "VisitorType                0\n",
       "Weekend                    0\n",
       "Revenue                    0\n",
       "dtype: int64"
      ]
     },
     "execution_count": 23,
     "metadata": {},
     "output_type": "execute_result"
    }
   ],
   "source": [
    "df.isnull().sum()"
   ]
  },
  {
   "cell_type": "markdown",
   "metadata": {},
   "source": [
    "It is pretty clear that the columns are free from null values."
   ]
  },
  {
   "cell_type": "markdown",
   "metadata": {},
   "source": [
    "### Descriptive Statistics"
   ]
  },
  {
   "cell_type": "code",
   "execution_count": 24,
   "metadata": {},
   "outputs": [
    {
     "data": {
      "text/html": [
       "<div>\n",
       "<style scoped>\n",
       "    .dataframe tbody tr th:only-of-type {\n",
       "        vertical-align: middle;\n",
       "    }\n",
       "\n",
       "    .dataframe tbody tr th {\n",
       "        vertical-align: top;\n",
       "    }\n",
       "\n",
       "    .dataframe thead th {\n",
       "        text-align: right;\n",
       "    }\n",
       "</style>\n",
       "<table border=\"1\" class=\"dataframe\">\n",
       "  <thead>\n",
       "    <tr style=\"text-align: right;\">\n",
       "      <th></th>\n",
       "      <th>Administrative</th>\n",
       "      <th>Administrative_Duration</th>\n",
       "      <th>Informational</th>\n",
       "      <th>Informational_Duration</th>\n",
       "      <th>ProductRelated</th>\n",
       "      <th>ProductRelated_Duration</th>\n",
       "      <th>BounceRates</th>\n",
       "      <th>ExitRates</th>\n",
       "      <th>PageValues</th>\n",
       "      <th>SpecialDay</th>\n",
       "      <th>OperatingSystems</th>\n",
       "      <th>Browser</th>\n",
       "      <th>Region</th>\n",
       "      <th>TrafficType</th>\n",
       "    </tr>\n",
       "  </thead>\n",
       "  <tbody>\n",
       "    <tr>\n",
       "      <th>count</th>\n",
       "      <td>12330.000000</td>\n",
       "      <td>12330.000000</td>\n",
       "      <td>12330.000000</td>\n",
       "      <td>12330.000000</td>\n",
       "      <td>12330.000000</td>\n",
       "      <td>12330.000000</td>\n",
       "      <td>12330.000000</td>\n",
       "      <td>12330.000000</td>\n",
       "      <td>12330.000000</td>\n",
       "      <td>12330.000000</td>\n",
       "      <td>12330.000000</td>\n",
       "      <td>12330.000000</td>\n",
       "      <td>12330.000000</td>\n",
       "      <td>12330.000000</td>\n",
       "    </tr>\n",
       "    <tr>\n",
       "      <th>mean</th>\n",
       "      <td>2.315166</td>\n",
       "      <td>80.818611</td>\n",
       "      <td>0.503569</td>\n",
       "      <td>34.472398</td>\n",
       "      <td>31.731468</td>\n",
       "      <td>1194.746220</td>\n",
       "      <td>0.022191</td>\n",
       "      <td>0.043073</td>\n",
       "      <td>5.889258</td>\n",
       "      <td>0.061427</td>\n",
       "      <td>2.124006</td>\n",
       "      <td>2.357097</td>\n",
       "      <td>3.147364</td>\n",
       "      <td>4.069586</td>\n",
       "    </tr>\n",
       "    <tr>\n",
       "      <th>std</th>\n",
       "      <td>3.321784</td>\n",
       "      <td>176.779107</td>\n",
       "      <td>1.270156</td>\n",
       "      <td>140.749294</td>\n",
       "      <td>44.475503</td>\n",
       "      <td>1913.669288</td>\n",
       "      <td>0.048488</td>\n",
       "      <td>0.048597</td>\n",
       "      <td>18.568437</td>\n",
       "      <td>0.198917</td>\n",
       "      <td>0.911325</td>\n",
       "      <td>1.717277</td>\n",
       "      <td>2.401591</td>\n",
       "      <td>4.025169</td>\n",
       "    </tr>\n",
       "    <tr>\n",
       "      <th>min</th>\n",
       "      <td>0.000000</td>\n",
       "      <td>0.000000</td>\n",
       "      <td>0.000000</td>\n",
       "      <td>0.000000</td>\n",
       "      <td>0.000000</td>\n",
       "      <td>0.000000</td>\n",
       "      <td>0.000000</td>\n",
       "      <td>0.000000</td>\n",
       "      <td>0.000000</td>\n",
       "      <td>0.000000</td>\n",
       "      <td>1.000000</td>\n",
       "      <td>1.000000</td>\n",
       "      <td>1.000000</td>\n",
       "      <td>1.000000</td>\n",
       "    </tr>\n",
       "    <tr>\n",
       "      <th>25%</th>\n",
       "      <td>0.000000</td>\n",
       "      <td>0.000000</td>\n",
       "      <td>0.000000</td>\n",
       "      <td>0.000000</td>\n",
       "      <td>7.000000</td>\n",
       "      <td>184.137500</td>\n",
       "      <td>0.000000</td>\n",
       "      <td>0.014286</td>\n",
       "      <td>0.000000</td>\n",
       "      <td>0.000000</td>\n",
       "      <td>2.000000</td>\n",
       "      <td>2.000000</td>\n",
       "      <td>1.000000</td>\n",
       "      <td>2.000000</td>\n",
       "    </tr>\n",
       "    <tr>\n",
       "      <th>50%</th>\n",
       "      <td>1.000000</td>\n",
       "      <td>7.500000</td>\n",
       "      <td>0.000000</td>\n",
       "      <td>0.000000</td>\n",
       "      <td>18.000000</td>\n",
       "      <td>598.936905</td>\n",
       "      <td>0.003112</td>\n",
       "      <td>0.025156</td>\n",
       "      <td>0.000000</td>\n",
       "      <td>0.000000</td>\n",
       "      <td>2.000000</td>\n",
       "      <td>2.000000</td>\n",
       "      <td>3.000000</td>\n",
       "      <td>2.000000</td>\n",
       "    </tr>\n",
       "    <tr>\n",
       "      <th>75%</th>\n",
       "      <td>4.000000</td>\n",
       "      <td>93.256250</td>\n",
       "      <td>0.000000</td>\n",
       "      <td>0.000000</td>\n",
       "      <td>38.000000</td>\n",
       "      <td>1464.157213</td>\n",
       "      <td>0.016813</td>\n",
       "      <td>0.050000</td>\n",
       "      <td>0.000000</td>\n",
       "      <td>0.000000</td>\n",
       "      <td>3.000000</td>\n",
       "      <td>2.000000</td>\n",
       "      <td>4.000000</td>\n",
       "      <td>4.000000</td>\n",
       "    </tr>\n",
       "    <tr>\n",
       "      <th>max</th>\n",
       "      <td>27.000000</td>\n",
       "      <td>3398.750000</td>\n",
       "      <td>24.000000</td>\n",
       "      <td>2549.375000</td>\n",
       "      <td>705.000000</td>\n",
       "      <td>63973.522230</td>\n",
       "      <td>0.200000</td>\n",
       "      <td>0.200000</td>\n",
       "      <td>361.763742</td>\n",
       "      <td>1.000000</td>\n",
       "      <td>8.000000</td>\n",
       "      <td>13.000000</td>\n",
       "      <td>9.000000</td>\n",
       "      <td>20.000000</td>\n",
       "    </tr>\n",
       "  </tbody>\n",
       "</table>\n",
       "</div>"
      ],
      "text/plain": [
       "       Administrative  Administrative_Duration  Informational  \\\n",
       "count    12330.000000             12330.000000   12330.000000   \n",
       "mean         2.315166                80.818611       0.503569   \n",
       "std          3.321784               176.779107       1.270156   \n",
       "min          0.000000                 0.000000       0.000000   \n",
       "25%          0.000000                 0.000000       0.000000   \n",
       "50%          1.000000                 7.500000       0.000000   \n",
       "75%          4.000000                93.256250       0.000000   \n",
       "max         27.000000              3398.750000      24.000000   \n",
       "\n",
       "       Informational_Duration  ProductRelated  ProductRelated_Duration  \\\n",
       "count            12330.000000    12330.000000             12330.000000   \n",
       "mean                34.472398       31.731468              1194.746220   \n",
       "std                140.749294       44.475503              1913.669288   \n",
       "min                  0.000000        0.000000                 0.000000   \n",
       "25%                  0.000000        7.000000               184.137500   \n",
       "50%                  0.000000       18.000000               598.936905   \n",
       "75%                  0.000000       38.000000              1464.157213   \n",
       "max               2549.375000      705.000000             63973.522230   \n",
       "\n",
       "        BounceRates     ExitRates    PageValues    SpecialDay  \\\n",
       "count  12330.000000  12330.000000  12330.000000  12330.000000   \n",
       "mean       0.022191      0.043073      5.889258      0.061427   \n",
       "std        0.048488      0.048597     18.568437      0.198917   \n",
       "min        0.000000      0.000000      0.000000      0.000000   \n",
       "25%        0.000000      0.014286      0.000000      0.000000   \n",
       "50%        0.003112      0.025156      0.000000      0.000000   \n",
       "75%        0.016813      0.050000      0.000000      0.000000   \n",
       "max        0.200000      0.200000    361.763742      1.000000   \n",
       "\n",
       "       OperatingSystems       Browser        Region   TrafficType  \n",
       "count      12330.000000  12330.000000  12330.000000  12330.000000  \n",
       "mean           2.124006      2.357097      3.147364      4.069586  \n",
       "std            0.911325      1.717277      2.401591      4.025169  \n",
       "min            1.000000      1.000000      1.000000      1.000000  \n",
       "25%            2.000000      2.000000      1.000000      2.000000  \n",
       "50%            2.000000      2.000000      3.000000      2.000000  \n",
       "75%            3.000000      2.000000      4.000000      4.000000  \n",
       "max            8.000000     13.000000      9.000000     20.000000  "
      ]
     },
     "execution_count": 24,
     "metadata": {},
     "output_type": "execute_result"
    }
   ],
   "source": [
    "df.describe()"
   ]
  },
  {
   "cell_type": "markdown",
   "metadata": {},
   "source": [
    "df.describe() give the count,mean,std,min,25th quantile, mode(5oth quantile),75th quantile and max for every continuous column. The categprical columns are omitted from this.\n",
    "\n",
    "The statistical inference is extremely useful to know the nature of the raw data.For example, mean and median help us to identify the skewness in the data and hence, lets us know if the data is normally distributed or not.\n",
    "\n",
    "If the mean is more than median, then the data is right skewed.\n",
    "If the means is less than median, then the data is left skewed.\n"
   ]
  },
  {
   "cell_type": "markdown",
   "metadata": {},
   "source": [
    "## Kmeans clustering :"
   ]
  },
  {
   "cell_type": "code",
   "execution_count": 25,
   "metadata": {},
   "outputs": [
    {
     "data": {
      "text/plain": [
       "Index(['Administrative', 'Administrative_Duration', 'Informational',\n",
       "       'Informational_Duration', 'ProductRelated', 'ProductRelated_Duration',\n",
       "       'BounceRates', 'ExitRates', 'PageValues', 'SpecialDay', 'Month',\n",
       "       'OperatingSystems', 'Browser', 'Region', 'TrafficType', 'VisitorType',\n",
       "       'Weekend', 'Revenue'],\n",
       "      dtype='object')"
      ]
     },
     "execution_count": 25,
     "metadata": {},
     "output_type": "execute_result"
    }
   ],
   "source": [
    "df.columns"
   ]
  },
  {
   "cell_type": "markdown",
   "metadata": {},
   "source": [
    "\n",
    "Looking at the columns above, there are 8 categorical columns and 10 numerical columns. For the best outcome of our model,\n",
    "\n",
    "    1) Categorical columns can be scaled only after encoding :\n",
    "       1.1) Weekend and Revenue cannot be label encoded since we don't want any heirarchy based on magnitude.\n",
    "       1.2) Only month can be label encoded since month having heirarchy based on magnitude is not an issue\n",
    "\n",
    "    2) Numerical columns ofcourse can be scaled without any encoding needed.\n"
   ]
  },
  {
   "cell_type": "code",
   "execution_count": 26,
   "metadata": {},
   "outputs": [],
   "source": [
    "'''\n",
    "creating 2 dataframes, one for categorical and other for continuous columns. It is not necessary but will help us in \n",
    "keeping things clean during encoding and scaling process.\n",
    "'''\n",
    "\n",
    "df_category = df[['Month','OperatingSystems', 'Browser', 'Region', 'TrafficType', 'VisitorType','Weekend', 'Revenue']]\n",
    "df_numerical = df[['Administrative', 'Administrative_Duration', 'Informational','Informational_Duration', 'ProductRelated',\n",
    "                   'ProductRelated_Duration','BounceRates', 'ExitRates', 'PageValues', 'SpecialDay']]"
   ]
  },
  {
   "cell_type": "markdown",
   "metadata": {},
   "source": [
    "(1) z-scaling on continous dataframe directly,"
   ]
  },
  {
   "cell_type": "code",
   "execution_count": 27,
   "metadata": {},
   "outputs": [],
   "source": [
    "from scipy.stats import zscore\n",
    "df_num_scaled = df_numerical.apply(zscore)"
   ]
  },
  {
   "cell_type": "markdown",
   "metadata": {},
   "source": [
    "(2) Now,z-scaling on categorical dataframe needs encoding first,"
   ]
  },
  {
   "cell_type": "code",
   "execution_count": 28,
   "metadata": {},
   "outputs": [],
   "source": [
    "df_category_encoded = pd.get_dummies(df_category[['VisitorType','Weekend', 'Revenue']])"
   ]
  },
  {
   "cell_type": "code",
   "execution_count": 29,
   "metadata": {},
   "outputs": [
    {
     "data": {
      "text/html": [
       "<div>\n",
       "<style scoped>\n",
       "    .dataframe tbody tr th:only-of-type {\n",
       "        vertical-align: middle;\n",
       "    }\n",
       "\n",
       "    .dataframe tbody tr th {\n",
       "        vertical-align: top;\n",
       "    }\n",
       "\n",
       "    .dataframe thead th {\n",
       "        text-align: right;\n",
       "    }\n",
       "</style>\n",
       "<table border=\"1\" class=\"dataframe\">\n",
       "  <thead>\n",
       "    <tr style=\"text-align: right;\">\n",
       "      <th></th>\n",
       "      <th>Weekend</th>\n",
       "      <th>Revenue</th>\n",
       "      <th>VisitorType_New_Visitor</th>\n",
       "      <th>VisitorType_Other</th>\n",
       "      <th>VisitorType_Returning_Visitor</th>\n",
       "    </tr>\n",
       "  </thead>\n",
       "  <tbody>\n",
       "    <tr>\n",
       "      <th>0</th>\n",
       "      <td>False</td>\n",
       "      <td>False</td>\n",
       "      <td>0</td>\n",
       "      <td>0</td>\n",
       "      <td>1</td>\n",
       "    </tr>\n",
       "    <tr>\n",
       "      <th>1</th>\n",
       "      <td>False</td>\n",
       "      <td>False</td>\n",
       "      <td>0</td>\n",
       "      <td>0</td>\n",
       "      <td>1</td>\n",
       "    </tr>\n",
       "    <tr>\n",
       "      <th>2</th>\n",
       "      <td>False</td>\n",
       "      <td>False</td>\n",
       "      <td>0</td>\n",
       "      <td>0</td>\n",
       "      <td>1</td>\n",
       "    </tr>\n",
       "    <tr>\n",
       "      <th>3</th>\n",
       "      <td>False</td>\n",
       "      <td>False</td>\n",
       "      <td>0</td>\n",
       "      <td>0</td>\n",
       "      <td>1</td>\n",
       "    </tr>\n",
       "    <tr>\n",
       "      <th>4</th>\n",
       "      <td>True</td>\n",
       "      <td>False</td>\n",
       "      <td>0</td>\n",
       "      <td>0</td>\n",
       "      <td>1</td>\n",
       "    </tr>\n",
       "  </tbody>\n",
       "</table>\n",
       "</div>"
      ],
      "text/plain": [
       "   Weekend  Revenue  VisitorType_New_Visitor  VisitorType_Other  \\\n",
       "0    False    False                        0                  0   \n",
       "1    False    False                        0                  0   \n",
       "2    False    False                        0                  0   \n",
       "3    False    False                        0                  0   \n",
       "4     True    False                        0                  0   \n",
       "\n",
       "   VisitorType_Returning_Visitor  \n",
       "0                              1  \n",
       "1                              1  \n",
       "2                              1  \n",
       "3                              1  \n",
       "4                              1  "
      ]
     },
     "execution_count": 29,
     "metadata": {},
     "output_type": "execute_result"
    }
   ],
   "source": [
    "df_category_encoded.head()"
   ]
  },
  {
   "cell_type": "code",
   "execution_count": 30,
   "metadata": {},
   "outputs": [],
   "source": [
    "def encoding(x):\n",
    "    if x == True:\n",
    "        return 1\n",
    "    else:\n",
    "        return 0\n",
    "    \n",
    "df_category_encoded['Weekend_encoded'] = df_category_encoded['Weekend'].apply(encoding)\n",
    "df_category_encoded['Revenue_encoded'] = df_category_encoded['Revenue'].apply(encoding)"
   ]
  },
  {
   "cell_type": "code",
   "execution_count": 31,
   "metadata": {},
   "outputs": [
    {
     "data": {
      "text/html": [
       "<div>\n",
       "<style scoped>\n",
       "    .dataframe tbody tr th:only-of-type {\n",
       "        vertical-align: middle;\n",
       "    }\n",
       "\n",
       "    .dataframe tbody tr th {\n",
       "        vertical-align: top;\n",
       "    }\n",
       "\n",
       "    .dataframe thead th {\n",
       "        text-align: right;\n",
       "    }\n",
       "</style>\n",
       "<table border=\"1\" class=\"dataframe\">\n",
       "  <thead>\n",
       "    <tr style=\"text-align: right;\">\n",
       "      <th></th>\n",
       "      <th>Weekend</th>\n",
       "      <th>Revenue</th>\n",
       "      <th>VisitorType_New_Visitor</th>\n",
       "      <th>VisitorType_Other</th>\n",
       "      <th>VisitorType_Returning_Visitor</th>\n",
       "      <th>Weekend_encoded</th>\n",
       "      <th>Revenue_encoded</th>\n",
       "    </tr>\n",
       "  </thead>\n",
       "  <tbody>\n",
       "    <tr>\n",
       "      <th>0</th>\n",
       "      <td>False</td>\n",
       "      <td>False</td>\n",
       "      <td>0</td>\n",
       "      <td>0</td>\n",
       "      <td>1</td>\n",
       "      <td>0</td>\n",
       "      <td>0</td>\n",
       "    </tr>\n",
       "    <tr>\n",
       "      <th>1</th>\n",
       "      <td>False</td>\n",
       "      <td>False</td>\n",
       "      <td>0</td>\n",
       "      <td>0</td>\n",
       "      <td>1</td>\n",
       "      <td>0</td>\n",
       "      <td>0</td>\n",
       "    </tr>\n",
       "    <tr>\n",
       "      <th>2</th>\n",
       "      <td>False</td>\n",
       "      <td>False</td>\n",
       "      <td>0</td>\n",
       "      <td>0</td>\n",
       "      <td>1</td>\n",
       "      <td>0</td>\n",
       "      <td>0</td>\n",
       "    </tr>\n",
       "    <tr>\n",
       "      <th>3</th>\n",
       "      <td>False</td>\n",
       "      <td>False</td>\n",
       "      <td>0</td>\n",
       "      <td>0</td>\n",
       "      <td>1</td>\n",
       "      <td>0</td>\n",
       "      <td>0</td>\n",
       "    </tr>\n",
       "    <tr>\n",
       "      <th>4</th>\n",
       "      <td>True</td>\n",
       "      <td>False</td>\n",
       "      <td>0</td>\n",
       "      <td>0</td>\n",
       "      <td>1</td>\n",
       "      <td>1</td>\n",
       "      <td>0</td>\n",
       "    </tr>\n",
       "  </tbody>\n",
       "</table>\n",
       "</div>"
      ],
      "text/plain": [
       "   Weekend  Revenue  VisitorType_New_Visitor  VisitorType_Other  \\\n",
       "0    False    False                        0                  0   \n",
       "1    False    False                        0                  0   \n",
       "2    False    False                        0                  0   \n",
       "3    False    False                        0                  0   \n",
       "4     True    False                        0                  0   \n",
       "\n",
       "   VisitorType_Returning_Visitor  Weekend_encoded  Revenue_encoded  \n",
       "0                              1                0                0  \n",
       "1                              1                0                0  \n",
       "2                              1                0                0  \n",
       "3                              1                0                0  \n",
       "4                              1                1                0  "
      ]
     },
     "execution_count": 31,
     "metadata": {},
     "output_type": "execute_result"
    }
   ],
   "source": [
    "df_category_encoded.head()"
   ]
  },
  {
   "cell_type": "code",
   "execution_count": 32,
   "metadata": {},
   "outputs": [],
   "source": [
    "df_category_encoded = df_category_encoded.drop(['Weekend','Revenue'],axis=1)"
   ]
  },
  {
   "cell_type": "code",
   "execution_count": 33,
   "metadata": {},
   "outputs": [
    {
     "data": {
      "text/html": [
       "<div>\n",
       "<style scoped>\n",
       "    .dataframe tbody tr th:only-of-type {\n",
       "        vertical-align: middle;\n",
       "    }\n",
       "\n",
       "    .dataframe tbody tr th {\n",
       "        vertical-align: top;\n",
       "    }\n",
       "\n",
       "    .dataframe thead th {\n",
       "        text-align: right;\n",
       "    }\n",
       "</style>\n",
       "<table border=\"1\" class=\"dataframe\">\n",
       "  <thead>\n",
       "    <tr style=\"text-align: right;\">\n",
       "      <th></th>\n",
       "      <th>VisitorType_New_Visitor</th>\n",
       "      <th>VisitorType_Other</th>\n",
       "      <th>VisitorType_Returning_Visitor</th>\n",
       "      <th>Weekend_encoded</th>\n",
       "      <th>Revenue_encoded</th>\n",
       "    </tr>\n",
       "  </thead>\n",
       "  <tbody>\n",
       "    <tr>\n",
       "      <th>0</th>\n",
       "      <td>0</td>\n",
       "      <td>0</td>\n",
       "      <td>1</td>\n",
       "      <td>0</td>\n",
       "      <td>0</td>\n",
       "    </tr>\n",
       "    <tr>\n",
       "      <th>1</th>\n",
       "      <td>0</td>\n",
       "      <td>0</td>\n",
       "      <td>1</td>\n",
       "      <td>0</td>\n",
       "      <td>0</td>\n",
       "    </tr>\n",
       "    <tr>\n",
       "      <th>2</th>\n",
       "      <td>0</td>\n",
       "      <td>0</td>\n",
       "      <td>1</td>\n",
       "      <td>0</td>\n",
       "      <td>0</td>\n",
       "    </tr>\n",
       "    <tr>\n",
       "      <th>3</th>\n",
       "      <td>0</td>\n",
       "      <td>0</td>\n",
       "      <td>1</td>\n",
       "      <td>0</td>\n",
       "      <td>0</td>\n",
       "    </tr>\n",
       "    <tr>\n",
       "      <th>4</th>\n",
       "      <td>0</td>\n",
       "      <td>0</td>\n",
       "      <td>1</td>\n",
       "      <td>1</td>\n",
       "      <td>0</td>\n",
       "    </tr>\n",
       "  </tbody>\n",
       "</table>\n",
       "</div>"
      ],
      "text/plain": [
       "   VisitorType_New_Visitor  VisitorType_Other  VisitorType_Returning_Visitor  \\\n",
       "0                        0                  0                              1   \n",
       "1                        0                  0                              1   \n",
       "2                        0                  0                              1   \n",
       "3                        0                  0                              1   \n",
       "4                        0                  0                              1   \n",
       "\n",
       "   Weekend_encoded  Revenue_encoded  \n",
       "0                0                0  \n",
       "1                0                0  \n",
       "2                0                0  \n",
       "3                0                0  \n",
       "4                1                0  "
      ]
     },
     "execution_count": 33,
     "metadata": {},
     "output_type": "execute_result"
    }
   ],
   "source": [
    "df_category_encoded.head()"
   ]
  },
  {
   "cell_type": "code",
   "execution_count": 34,
   "metadata": {},
   "outputs": [
    {
     "data": {
      "text/html": [
       "<div>\n",
       "<style scoped>\n",
       "    .dataframe tbody tr th:only-of-type {\n",
       "        vertical-align: middle;\n",
       "    }\n",
       "\n",
       "    .dataframe tbody tr th {\n",
       "        vertical-align: top;\n",
       "    }\n",
       "\n",
       "    .dataframe thead th {\n",
       "        text-align: right;\n",
       "    }\n",
       "</style>\n",
       "<table border=\"1\" class=\"dataframe\">\n",
       "  <thead>\n",
       "    <tr style=\"text-align: right;\">\n",
       "      <th></th>\n",
       "      <th>Month</th>\n",
       "      <th>OperatingSystems</th>\n",
       "      <th>Browser</th>\n",
       "      <th>Region</th>\n",
       "      <th>TrafficType</th>\n",
       "      <th>VisitorType_New_Visitor</th>\n",
       "      <th>VisitorType_Other</th>\n",
       "      <th>VisitorType_Returning_Visitor</th>\n",
       "      <th>Weekend_encoded</th>\n",
       "      <th>Revenue_encoded</th>\n",
       "    </tr>\n",
       "  </thead>\n",
       "  <tbody>\n",
       "    <tr>\n",
       "      <th>0</th>\n",
       "      <td>Feb</td>\n",
       "      <td>1</td>\n",
       "      <td>1</td>\n",
       "      <td>1</td>\n",
       "      <td>1</td>\n",
       "      <td>0</td>\n",
       "      <td>0</td>\n",
       "      <td>1</td>\n",
       "      <td>0</td>\n",
       "      <td>0</td>\n",
       "    </tr>\n",
       "    <tr>\n",
       "      <th>1</th>\n",
       "      <td>Feb</td>\n",
       "      <td>2</td>\n",
       "      <td>2</td>\n",
       "      <td>1</td>\n",
       "      <td>2</td>\n",
       "      <td>0</td>\n",
       "      <td>0</td>\n",
       "      <td>1</td>\n",
       "      <td>0</td>\n",
       "      <td>0</td>\n",
       "    </tr>\n",
       "    <tr>\n",
       "      <th>2</th>\n",
       "      <td>Feb</td>\n",
       "      <td>4</td>\n",
       "      <td>1</td>\n",
       "      <td>9</td>\n",
       "      <td>3</td>\n",
       "      <td>0</td>\n",
       "      <td>0</td>\n",
       "      <td>1</td>\n",
       "      <td>0</td>\n",
       "      <td>0</td>\n",
       "    </tr>\n",
       "    <tr>\n",
       "      <th>3</th>\n",
       "      <td>Feb</td>\n",
       "      <td>3</td>\n",
       "      <td>2</td>\n",
       "      <td>2</td>\n",
       "      <td>4</td>\n",
       "      <td>0</td>\n",
       "      <td>0</td>\n",
       "      <td>1</td>\n",
       "      <td>0</td>\n",
       "      <td>0</td>\n",
       "    </tr>\n",
       "    <tr>\n",
       "      <th>4</th>\n",
       "      <td>Feb</td>\n",
       "      <td>3</td>\n",
       "      <td>3</td>\n",
       "      <td>1</td>\n",
       "      <td>4</td>\n",
       "      <td>0</td>\n",
       "      <td>0</td>\n",
       "      <td>1</td>\n",
       "      <td>1</td>\n",
       "      <td>0</td>\n",
       "    </tr>\n",
       "  </tbody>\n",
       "</table>\n",
       "</div>"
      ],
      "text/plain": [
       "  Month  OperatingSystems  Browser  Region  TrafficType  \\\n",
       "0   Feb                 1        1       1            1   \n",
       "1   Feb                 2        2       1            2   \n",
       "2   Feb                 4        1       9            3   \n",
       "3   Feb                 3        2       2            4   \n",
       "4   Feb                 3        3       1            4   \n",
       "\n",
       "   VisitorType_New_Visitor  VisitorType_Other  VisitorType_Returning_Visitor  \\\n",
       "0                        0                  0                              1   \n",
       "1                        0                  0                              1   \n",
       "2                        0                  0                              1   \n",
       "3                        0                  0                              1   \n",
       "4                        0                  0                              1   \n",
       "\n",
       "   Weekend_encoded  Revenue_encoded  \n",
       "0                0                0  \n",
       "1                0                0  \n",
       "2                0                0  \n",
       "3                0                0  \n",
       "4                1                0  "
      ]
     },
     "execution_count": 34,
     "metadata": {},
     "output_type": "execute_result"
    }
   ],
   "source": [
    "df_category_scaled =pd.concat((df[['Month','OperatingSystems', 'Browser', 'Region', 'TrafficType']],df_category_encoded),axis=1)\n",
    "df_category_scaled.head()"
   ]
  },
  {
   "cell_type": "markdown",
   "metadata": {},
   "source": [
    "(3) Label encoding on month columns is not an issue since months do have a heirarchy,"
   ]
  },
  {
   "cell_type": "code",
   "execution_count": 35,
   "metadata": {},
   "outputs": [],
   "source": [
    "from sklearn.preprocessing import LabelEncoder\n",
    "le = LabelEncoder()\n",
    "df_category_scaled['Month'] = le.fit_transform(df_category_scaled['Month'])"
   ]
  },
  {
   "cell_type": "code",
   "execution_count": 36,
   "metadata": {},
   "outputs": [
    {
     "data": {
      "text/html": [
       "<div>\n",
       "<style scoped>\n",
       "    .dataframe tbody tr th:only-of-type {\n",
       "        vertical-align: middle;\n",
       "    }\n",
       "\n",
       "    .dataframe tbody tr th {\n",
       "        vertical-align: top;\n",
       "    }\n",
       "\n",
       "    .dataframe thead th {\n",
       "        text-align: right;\n",
       "    }\n",
       "</style>\n",
       "<table border=\"1\" class=\"dataframe\">\n",
       "  <thead>\n",
       "    <tr style=\"text-align: right;\">\n",
       "      <th></th>\n",
       "      <th>Month</th>\n",
       "      <th>OperatingSystems</th>\n",
       "      <th>Browser</th>\n",
       "      <th>Region</th>\n",
       "      <th>TrafficType</th>\n",
       "      <th>VisitorType_New_Visitor</th>\n",
       "      <th>VisitorType_Other</th>\n",
       "      <th>VisitorType_Returning_Visitor</th>\n",
       "      <th>Weekend_encoded</th>\n",
       "      <th>Revenue_encoded</th>\n",
       "    </tr>\n",
       "  </thead>\n",
       "  <tbody>\n",
       "    <tr>\n",
       "      <th>0</th>\n",
       "      <td>2</td>\n",
       "      <td>1</td>\n",
       "      <td>1</td>\n",
       "      <td>1</td>\n",
       "      <td>1</td>\n",
       "      <td>0</td>\n",
       "      <td>0</td>\n",
       "      <td>1</td>\n",
       "      <td>0</td>\n",
       "      <td>0</td>\n",
       "    </tr>\n",
       "    <tr>\n",
       "      <th>1</th>\n",
       "      <td>2</td>\n",
       "      <td>2</td>\n",
       "      <td>2</td>\n",
       "      <td>1</td>\n",
       "      <td>2</td>\n",
       "      <td>0</td>\n",
       "      <td>0</td>\n",
       "      <td>1</td>\n",
       "      <td>0</td>\n",
       "      <td>0</td>\n",
       "    </tr>\n",
       "    <tr>\n",
       "      <th>2</th>\n",
       "      <td>2</td>\n",
       "      <td>4</td>\n",
       "      <td>1</td>\n",
       "      <td>9</td>\n",
       "      <td>3</td>\n",
       "      <td>0</td>\n",
       "      <td>0</td>\n",
       "      <td>1</td>\n",
       "      <td>0</td>\n",
       "      <td>0</td>\n",
       "    </tr>\n",
       "    <tr>\n",
       "      <th>3</th>\n",
       "      <td>2</td>\n",
       "      <td>3</td>\n",
       "      <td>2</td>\n",
       "      <td>2</td>\n",
       "      <td>4</td>\n",
       "      <td>0</td>\n",
       "      <td>0</td>\n",
       "      <td>1</td>\n",
       "      <td>0</td>\n",
       "      <td>0</td>\n",
       "    </tr>\n",
       "    <tr>\n",
       "      <th>4</th>\n",
       "      <td>2</td>\n",
       "      <td>3</td>\n",
       "      <td>3</td>\n",
       "      <td>1</td>\n",
       "      <td>4</td>\n",
       "      <td>0</td>\n",
       "      <td>0</td>\n",
       "      <td>1</td>\n",
       "      <td>1</td>\n",
       "      <td>0</td>\n",
       "    </tr>\n",
       "  </tbody>\n",
       "</table>\n",
       "</div>"
      ],
      "text/plain": [
       "   Month  OperatingSystems  Browser  Region  TrafficType  \\\n",
       "0      2                 1        1       1            1   \n",
       "1      2                 2        2       1            2   \n",
       "2      2                 4        1       9            3   \n",
       "3      2                 3        2       2            4   \n",
       "4      2                 3        3       1            4   \n",
       "\n",
       "   VisitorType_New_Visitor  VisitorType_Other  VisitorType_Returning_Visitor  \\\n",
       "0                        0                  0                              1   \n",
       "1                        0                  0                              1   \n",
       "2                        0                  0                              1   \n",
       "3                        0                  0                              1   \n",
       "4                        0                  0                              1   \n",
       "\n",
       "   Weekend_encoded  Revenue_encoded  \n",
       "0                0                0  \n",
       "1                0                0  \n",
       "2                0                0  \n",
       "3                0                0  \n",
       "4                1                0  "
      ]
     },
     "execution_count": 36,
     "metadata": {},
     "output_type": "execute_result"
    }
   ],
   "source": [
    "df_category_scaled.head()"
   ]
  },
  {
   "cell_type": "code",
   "execution_count": 37,
   "metadata": {},
   "outputs": [
    {
     "data": {
      "text/html": [
       "<div>\n",
       "<style scoped>\n",
       "    .dataframe tbody tr th:only-of-type {\n",
       "        vertical-align: middle;\n",
       "    }\n",
       "\n",
       "    .dataframe tbody tr th {\n",
       "        vertical-align: top;\n",
       "    }\n",
       "\n",
       "    .dataframe thead th {\n",
       "        text-align: right;\n",
       "    }\n",
       "</style>\n",
       "<table border=\"1\" class=\"dataframe\">\n",
       "  <thead>\n",
       "    <tr style=\"text-align: right;\">\n",
       "      <th></th>\n",
       "      <th>Administrative</th>\n",
       "      <th>Administrative_Duration</th>\n",
       "      <th>Informational</th>\n",
       "      <th>Informational_Duration</th>\n",
       "      <th>ProductRelated</th>\n",
       "      <th>ProductRelated_Duration</th>\n",
       "      <th>BounceRates</th>\n",
       "      <th>ExitRates</th>\n",
       "      <th>PageValues</th>\n",
       "      <th>SpecialDay</th>\n",
       "      <th>Month</th>\n",
       "      <th>OperatingSystems</th>\n",
       "      <th>Browser</th>\n",
       "      <th>Region</th>\n",
       "      <th>TrafficType</th>\n",
       "      <th>VisitorType_New_Visitor</th>\n",
       "      <th>VisitorType_Other</th>\n",
       "      <th>VisitorType_Returning_Visitor</th>\n",
       "      <th>Weekend_encoded</th>\n",
       "      <th>Revenue_encoded</th>\n",
       "    </tr>\n",
       "  </thead>\n",
       "  <tbody>\n",
       "    <tr>\n",
       "      <th>0</th>\n",
       "      <td>-0.696993</td>\n",
       "      <td>-0.457191</td>\n",
       "      <td>-0.396478</td>\n",
       "      <td>-0.244931</td>\n",
       "      <td>-0.691003</td>\n",
       "      <td>-0.624348</td>\n",
       "      <td>3.667189</td>\n",
       "      <td>3.229316</td>\n",
       "      <td>-0.317178</td>\n",
       "      <td>-0.308821</td>\n",
       "      <td>2</td>\n",
       "      <td>1</td>\n",
       "      <td>1</td>\n",
       "      <td>1</td>\n",
       "      <td>1</td>\n",
       "      <td>0</td>\n",
       "      <td>0</td>\n",
       "      <td>1</td>\n",
       "      <td>0</td>\n",
       "      <td>0</td>\n",
       "    </tr>\n",
       "    <tr>\n",
       "      <th>1</th>\n",
       "      <td>-0.696993</td>\n",
       "      <td>-0.457191</td>\n",
       "      <td>-0.396478</td>\n",
       "      <td>-0.244931</td>\n",
       "      <td>-0.668518</td>\n",
       "      <td>-0.590903</td>\n",
       "      <td>-0.457683</td>\n",
       "      <td>1.171473</td>\n",
       "      <td>-0.317178</td>\n",
       "      <td>-0.308821</td>\n",
       "      <td>2</td>\n",
       "      <td>2</td>\n",
       "      <td>2</td>\n",
       "      <td>1</td>\n",
       "      <td>2</td>\n",
       "      <td>0</td>\n",
       "      <td>0</td>\n",
       "      <td>1</td>\n",
       "      <td>0</td>\n",
       "      <td>0</td>\n",
       "    </tr>\n",
       "    <tr>\n",
       "      <th>2</th>\n",
       "      <td>-0.696993</td>\n",
       "      <td>-0.457191</td>\n",
       "      <td>-0.396478</td>\n",
       "      <td>-0.244931</td>\n",
       "      <td>-0.691003</td>\n",
       "      <td>-0.624348</td>\n",
       "      <td>3.667189</td>\n",
       "      <td>3.229316</td>\n",
       "      <td>-0.317178</td>\n",
       "      <td>-0.308821</td>\n",
       "      <td>2</td>\n",
       "      <td>4</td>\n",
       "      <td>1</td>\n",
       "      <td>9</td>\n",
       "      <td>3</td>\n",
       "      <td>0</td>\n",
       "      <td>0</td>\n",
       "      <td>1</td>\n",
       "      <td>0</td>\n",
       "      <td>0</td>\n",
       "    </tr>\n",
       "    <tr>\n",
       "      <th>3</th>\n",
       "      <td>-0.696993</td>\n",
       "      <td>-0.457191</td>\n",
       "      <td>-0.396478</td>\n",
       "      <td>-0.244931</td>\n",
       "      <td>-0.668518</td>\n",
       "      <td>-0.622954</td>\n",
       "      <td>0.573535</td>\n",
       "      <td>1.994610</td>\n",
       "      <td>-0.317178</td>\n",
       "      <td>-0.308821</td>\n",
       "      <td>2</td>\n",
       "      <td>3</td>\n",
       "      <td>2</td>\n",
       "      <td>2</td>\n",
       "      <td>4</td>\n",
       "      <td>0</td>\n",
       "      <td>0</td>\n",
       "      <td>1</td>\n",
       "      <td>0</td>\n",
       "      <td>0</td>\n",
       "    </tr>\n",
       "    <tr>\n",
       "      <th>4</th>\n",
       "      <td>-0.696993</td>\n",
       "      <td>-0.457191</td>\n",
       "      <td>-0.396478</td>\n",
       "      <td>-0.244931</td>\n",
       "      <td>-0.488636</td>\n",
       "      <td>-0.296430</td>\n",
       "      <td>-0.045196</td>\n",
       "      <td>0.142551</td>\n",
       "      <td>-0.317178</td>\n",
       "      <td>-0.308821</td>\n",
       "      <td>2</td>\n",
       "      <td>3</td>\n",
       "      <td>3</td>\n",
       "      <td>1</td>\n",
       "      <td>4</td>\n",
       "      <td>0</td>\n",
       "      <td>0</td>\n",
       "      <td>1</td>\n",
       "      <td>1</td>\n",
       "      <td>0</td>\n",
       "    </tr>\n",
       "  </tbody>\n",
       "</table>\n",
       "</div>"
      ],
      "text/plain": [
       "   Administrative  Administrative_Duration  Informational  \\\n",
       "0       -0.696993                -0.457191      -0.396478   \n",
       "1       -0.696993                -0.457191      -0.396478   \n",
       "2       -0.696993                -0.457191      -0.396478   \n",
       "3       -0.696993                -0.457191      -0.396478   \n",
       "4       -0.696993                -0.457191      -0.396478   \n",
       "\n",
       "   Informational_Duration  ProductRelated  ProductRelated_Duration  \\\n",
       "0               -0.244931       -0.691003                -0.624348   \n",
       "1               -0.244931       -0.668518                -0.590903   \n",
       "2               -0.244931       -0.691003                -0.624348   \n",
       "3               -0.244931       -0.668518                -0.622954   \n",
       "4               -0.244931       -0.488636                -0.296430   \n",
       "\n",
       "   BounceRates  ExitRates  PageValues  SpecialDay  Month  OperatingSystems  \\\n",
       "0     3.667189   3.229316   -0.317178   -0.308821      2                 1   \n",
       "1    -0.457683   1.171473   -0.317178   -0.308821      2                 2   \n",
       "2     3.667189   3.229316   -0.317178   -0.308821      2                 4   \n",
       "3     0.573535   1.994610   -0.317178   -0.308821      2                 3   \n",
       "4    -0.045196   0.142551   -0.317178   -0.308821      2                 3   \n",
       "\n",
       "   Browser  Region  TrafficType  VisitorType_New_Visitor  VisitorType_Other  \\\n",
       "0        1       1            1                        0                  0   \n",
       "1        2       1            2                        0                  0   \n",
       "2        1       9            3                        0                  0   \n",
       "3        2       2            4                        0                  0   \n",
       "4        3       1            4                        0                  0   \n",
       "\n",
       "   VisitorType_Returning_Visitor  Weekend_encoded  Revenue_encoded  \n",
       "0                              1                0                0  \n",
       "1                              1                0                0  \n",
       "2                              1                0                0  \n",
       "3                              1                0                0  \n",
       "4                              1                1                0  "
      ]
     },
     "execution_count": 37,
     "metadata": {},
     "output_type": "execute_result"
    }
   ],
   "source": [
    "df_scaled_new = pd.concat((df_num_scaled,df_category_scaled),axis=1)\n",
    "df_scaled_new.head()"
   ]
  },
  {
   "cell_type": "code",
   "execution_count": 40,
   "metadata": {},
   "outputs": [],
   "source": [
    "num_of_cluster = range(1,15)\n",
    "inertia_list = []\n",
    "for i in num_of_cluster:\n",
    "    model = KMeans(i)\n",
    "    model.fit(df_scaled_new)\n",
    "    inertia_list.append(model.inertia_)\n"
   ]
  },
  {
   "cell_type": "code",
   "execution_count": 41,
   "metadata": {},
   "outputs": [
    {
     "name": "stdout",
     "output_type": "stream",
     "text": [
      "Table : Cluster error vs Number of clusters : \n",
      "\n"
     ]
    },
    {
     "data": {
      "text/html": [
       "<div>\n",
       "<style scoped>\n",
       "    .dataframe tbody tr th:only-of-type {\n",
       "        vertical-align: middle;\n",
       "    }\n",
       "\n",
       "    .dataframe tbody tr th {\n",
       "        vertical-align: top;\n",
       "    }\n",
       "\n",
       "    .dataframe thead th {\n",
       "        text-align: right;\n",
       "    }\n",
       "</style>\n",
       "<table border=\"1\" class=\"dataframe\">\n",
       "  <thead>\n",
       "    <tr style=\"text-align: right;\">\n",
       "      <th></th>\n",
       "      <th>Number of Clusters</th>\n",
       "      <th>Cluster_error</th>\n",
       "    </tr>\n",
       "  </thead>\n",
       "  <tbody>\n",
       "    <tr>\n",
       "      <th>0</th>\n",
       "      <td>1</td>\n",
       "      <td>516905.684753</td>\n",
       "    </tr>\n",
       "    <tr>\n",
       "      <th>1</th>\n",
       "      <td>2</td>\n",
       "      <td>356846.498033</td>\n",
       "    </tr>\n",
       "    <tr>\n",
       "      <th>2</th>\n",
       "      <td>3</td>\n",
       "      <td>309735.580090</td>\n",
       "    </tr>\n",
       "    <tr>\n",
       "      <th>3</th>\n",
       "      <td>4</td>\n",
       "      <td>274358.724729</td>\n",
       "    </tr>\n",
       "    <tr>\n",
       "      <th>4</th>\n",
       "      <td>5</td>\n",
       "      <td>256421.166746</td>\n",
       "    </tr>\n",
       "    <tr>\n",
       "      <th>5</th>\n",
       "      <td>6</td>\n",
       "      <td>241550.450323</td>\n",
       "    </tr>\n",
       "    <tr>\n",
       "      <th>6</th>\n",
       "      <td>7</td>\n",
       "      <td>229323.285714</td>\n",
       "    </tr>\n",
       "    <tr>\n",
       "      <th>7</th>\n",
       "      <td>8</td>\n",
       "      <td>220372.864979</td>\n",
       "    </tr>\n",
       "    <tr>\n",
       "      <th>8</th>\n",
       "      <td>9</td>\n",
       "      <td>213287.528953</td>\n",
       "    </tr>\n",
       "    <tr>\n",
       "      <th>9</th>\n",
       "      <td>10</td>\n",
       "      <td>201006.989558</td>\n",
       "    </tr>\n",
       "    <tr>\n",
       "      <th>10</th>\n",
       "      <td>11</td>\n",
       "      <td>194276.461549</td>\n",
       "    </tr>\n",
       "    <tr>\n",
       "      <th>11</th>\n",
       "      <td>12</td>\n",
       "      <td>187670.328967</td>\n",
       "    </tr>\n",
       "    <tr>\n",
       "      <th>12</th>\n",
       "      <td>13</td>\n",
       "      <td>182524.695472</td>\n",
       "    </tr>\n",
       "    <tr>\n",
       "      <th>13</th>\n",
       "      <td>14</td>\n",
       "      <td>176028.176888</td>\n",
       "    </tr>\n",
       "  </tbody>\n",
       "</table>\n",
       "</div>"
      ],
      "text/plain": [
       "    Number of Clusters  Cluster_error\n",
       "0                    1  516905.684753\n",
       "1                    2  356846.498033\n",
       "2                    3  309735.580090\n",
       "3                    4  274358.724729\n",
       "4                    5  256421.166746\n",
       "5                    6  241550.450323\n",
       "6                    7  229323.285714\n",
       "7                    8  220372.864979\n",
       "8                    9  213287.528953\n",
       "9                   10  201006.989558\n",
       "10                  11  194276.461549\n",
       "11                  12  187670.328967\n",
       "12                  13  182524.695472\n",
       "13                  14  176028.176888"
      ]
     },
     "execution_count": 41,
     "metadata": {},
     "output_type": "execute_result"
    }
   ],
   "source": [
    "table1 = pd.DataFrame({'Number of Clusters':num_of_cluster,'Cluster_error':inertia_list})\n",
    "print('Table : Cluster error vs Number of clusters : \\n')\n",
    "table1"
   ]
  },
  {
   "cell_type": "markdown",
   "metadata": {},
   "source": [
    "Inference : Looking at the differences between cluster errors, there is a huge difference in error from K = 1 and K = 2. \n",
    "So, we can conclude that optimum no.of clusters is 2."
   ]
  },
  {
   "cell_type": "code",
   "execution_count": 42,
   "metadata": {},
   "outputs": [
    {
     "data": {
      "image/png": "[encoded data removed]",
      "text/plain": [
       "<Figure size 864x432 with 1 Axes>"
      ]
     },
     "metadata": {
      "needs_background": "light"
     },
     "output_type": "display_data"
    }
   ],
   "source": [
    "plt.figure(figsize=(12,6))\n",
    "plt.plot(num_of_cluster, inertia_list)\n",
    "plt.xlabel('No of Clusters')\n",
    "plt.ylabel('Inertia')\n",
    "plt.grid()\n",
    "plt.show()"
   ]
  },
  {
   "cell_type": "markdown",
   "metadata": {},
   "source": [
    "Inference :\n",
    "It is clear from the elbow plot, there is a steep change of slope at K = 2, hence the no.of clusters is 2."
   ]
  },
  {
   "cell_type": "code",
   "execution_count": 43,
   "metadata": {},
   "outputs": [],
   "source": [
    "km = KMeans(n_clusters=2)\n",
    "km.fit(df_scaled_new)\n",
    "centroids_km = km.cluster_centers_\n",
    "centroids_km_df = pd.DataFrame(centroids_km,columns=df_scaled_new.columns)"
   ]
  },
  {
   "cell_type": "code",
   "execution_count": 44,
   "metadata": {},
   "outputs": [
    {
     "data": {
      "text/html": [
       "<div>\n",
       "<style scoped>\n",
       "    .dataframe tbody tr th:only-of-type {\n",
       "        vertical-align: middle;\n",
       "    }\n",
       "\n",
       "    .dataframe tbody tr th {\n",
       "        vertical-align: top;\n",
       "    }\n",
       "\n",
       "    .dataframe thead th {\n",
       "        text-align: right;\n",
       "    }\n",
       "</style>\n",
       "<table border=\"1\" class=\"dataframe\">\n",
       "  <thead>\n",
       "    <tr style=\"text-align: right;\">\n",
       "      <th></th>\n",
       "      <th>Administrative</th>\n",
       "      <th>Administrative_Duration</th>\n",
       "      <th>Informational</th>\n",
       "      <th>Informational_Duration</th>\n",
       "      <th>ProductRelated</th>\n",
       "      <th>ProductRelated_Duration</th>\n",
       "      <th>BounceRates</th>\n",
       "      <th>ExitRates</th>\n",
       "      <th>PageValues</th>\n",
       "      <th>SpecialDay</th>\n",
       "      <th>Month</th>\n",
       "      <th>OperatingSystems</th>\n",
       "      <th>Browser</th>\n",
       "      <th>Region</th>\n",
       "      <th>TrafficType</th>\n",
       "      <th>VisitorType_New_Visitor</th>\n",
       "      <th>VisitorType_Other</th>\n",
       "      <th>VisitorType_Returning_Visitor</th>\n",
       "      <th>Weekend_encoded</th>\n",
       "      <th>Revenue_encoded</th>\n",
       "    </tr>\n",
       "  </thead>\n",
       "  <tbody>\n",
       "    <tr>\n",
       "      <th>0</th>\n",
       "      <td>-0.063215</td>\n",
       "      <td>-0.019048</td>\n",
       "      <td>-0.058834</td>\n",
       "      <td>-0.039885</td>\n",
       "      <td>-0.056131</td>\n",
       "      <td>-0.034413</td>\n",
       "      <td>0.160042</td>\n",
       "      <td>0.157273</td>\n",
       "      <td>0.005756</td>\n",
       "      <td>-0.001098</td>\n",
       "      <td>5.282723</td>\n",
       "      <td>2.398858</td>\n",
       "      <td>2.554498</td>\n",
       "      <td>3.280343</td>\n",
       "      <td>12.006188</td>\n",
       "      <td>0.136126</td>\n",
       "      <td>0.027606</td>\n",
       "      <td>0.836268</td>\n",
       "      <td>0.247501</td>\n",
       "      <td>0.158496</td>\n",
       "    </tr>\n",
       "    <tr>\n",
       "      <th>1</th>\n",
       "      <td>0.012984</td>\n",
       "      <td>0.003912</td>\n",
       "      <td>0.012084</td>\n",
       "      <td>0.008192</td>\n",
       "      <td>0.011529</td>\n",
       "      <td>0.007068</td>\n",
       "      <td>-0.032872</td>\n",
       "      <td>-0.032303</td>\n",
       "      <td>-0.001182</td>\n",
       "      <td>0.000226</td>\n",
       "      <td>5.139603</td>\n",
       "      <td>2.067553</td>\n",
       "      <td>2.316551</td>\n",
       "      <td>3.120051</td>\n",
       "      <td>2.439437</td>\n",
       "      <td>0.137648</td>\n",
       "      <td>0.002640</td>\n",
       "      <td>0.859713</td>\n",
       "      <td>0.229543</td>\n",
       "      <td>0.153974</td>\n",
       "    </tr>\n",
       "  </tbody>\n",
       "</table>\n",
       "</div>"
      ],
      "text/plain": [
       "   Administrative  Administrative_Duration  Informational  \\\n",
       "0       -0.063215                -0.019048      -0.058834   \n",
       "1        0.012984                 0.003912       0.012084   \n",
       "\n",
       "   Informational_Duration  ProductRelated  ProductRelated_Duration  \\\n",
       "0               -0.039885       -0.056131                -0.034413   \n",
       "1                0.008192        0.011529                 0.007068   \n",
       "\n",
       "   BounceRates  ExitRates  PageValues  SpecialDay     Month  OperatingSystems  \\\n",
       "0     0.160042   0.157273    0.005756   -0.001098  5.282723          2.398858   \n",
       "1    -0.032872  -0.032303   -0.001182    0.000226  5.139603          2.067553   \n",
       "\n",
       "    Browser    Region  TrafficType  VisitorType_New_Visitor  \\\n",
       "0  2.554498  3.280343    12.006188                 0.136126   \n",
       "1  2.316551  3.120051     2.439437                 0.137648   \n",
       "\n",
       "   VisitorType_Other  VisitorType_Returning_Visitor  Weekend_encoded  \\\n",
       "0           0.027606                       0.836268         0.247501   \n",
       "1           0.002640                       0.859713         0.229543   \n",
       "\n",
       "   Revenue_encoded  \n",
       "0         0.158496  \n",
       "1         0.153974  "
      ]
     },
     "execution_count": 44,
     "metadata": {},
     "output_type": "execute_result"
    }
   ],
   "source": [
    "centroids_km_df"
   ]
  },
  {
   "cell_type": "code",
   "execution_count": 45,
   "metadata": {},
   "outputs": [
    {
     "data": {
      "text/plain": [
       "array([1, 1, 1, 1, 1, 1, 1, 1, 1, 1, 1, 1, 1, 1, 1, 1, 1, 1, 1, 1, 1, 1,\n",
       "       1, 1, 1, 1, 1, 1, 1, 1, 1, 1, 1, 1, 1, 1, 1, 1, 1, 1, 1, 1, 1, 1,\n",
       "       1, 1, 1, 1, 1, 1, 1, 1, 1, 1, 1, 1, 1, 1, 1, 1, 1, 1, 1, 1, 1, 1,\n",
       "       1, 1, 1, 1, 1, 1, 1, 1, 1, 1, 1, 1, 1, 1, 1, 1, 1, 1, 1, 1, 1, 1,\n",
       "       1, 1, 1, 1, 1, 1, 1, 1, 1, 1, 1, 1, 1, 1, 1, 1, 1, 1, 1, 1, 1, 1,\n",
       "       1, 1, 1, 1, 1, 1, 1, 1, 1, 1, 1, 1, 1, 1, 1, 1, 1, 1, 1, 1, 1, 1,\n",
       "       1, 1, 1, 1, 1, 1, 1, 1, 1, 1, 1, 1, 1, 1, 1, 1, 1, 1, 1, 1, 1, 1,\n",
       "       1, 1, 1, 1, 1, 1, 1, 1, 1, 1, 1, 1, 1, 1, 1, 1, 1, 1, 1, 1, 1, 1,\n",
       "       1, 1, 1, 1, 1, 1, 1, 1, 0, 1, 1, 1, 1, 1, 1, 1, 1, 1, 1, 1, 1, 1,\n",
       "       1, 1, 0, 0, 1, 0, 0, 1, 1, 1, 1, 1, 1, 1, 0, 1, 1, 1, 1, 1, 1, 0,\n",
       "       1, 1, 1, 0, 1, 0, 1, 1, 1, 1, 0, 1, 1, 1, 1, 1, 0, 1, 1, 1, 1, 1,\n",
       "       1, 1, 1, 1, 1, 1, 1, 1, 1, 1, 1, 1, 1, 1, 1, 0, 1, 0, 1, 1, 1, 1,\n",
       "       1, 1, 1, 0, 1, 1, 1, 1, 0, 1, 0, 1, 1, 1, 1, 1, 1, 0, 1, 1, 1, 1,\n",
       "       1, 1, 1, 0, 1, 1, 1, 1, 1, 1, 1, 1, 1, 1, 0, 1, 1, 1, 1, 1, 1, 1,\n",
       "       0, 0, 0, 1, 1, 1, 1, 1, 1, 0, 1, 1, 1, 1, 1, 1, 1, 1, 1, 1, 0, 1,\n",
       "       1, 1, 1, 1, 1, 1, 1, 1, 1, 1, 1, 1, 1, 1, 1, 0, 1, 1, 1, 1, 1, 1,\n",
       "       1, 1, 1, 1, 1, 1, 1, 1, 1, 1, 1, 1, 1, 1, 1, 1, 1, 1, 1, 1, 0, 1,\n",
       "       1, 1, 1, 1, 0, 1, 1, 1, 1, 1, 1, 1, 1, 1, 1, 1, 1, 1, 1, 1, 1, 1,\n",
       "       0, 1, 1, 1, 1, 1, 1, 1, 1, 1, 1, 1, 0, 1, 1, 1, 0, 0, 1, 0, 1, 1,\n",
       "       1, 1, 1, 1, 1, 1, 1, 1, 1, 1, 1, 0, 1, 1, 1, 1, 0, 1, 1, 1, 1, 1,\n",
       "       1, 1, 1, 0, 0, 0, 1, 1, 1, 1, 1, 1, 1, 1, 1, 0, 1, 1, 1, 1, 0, 1,\n",
       "       0, 1, 1, 1, 1, 1, 1, 1, 1, 1, 1, 1, 1, 1, 1, 1, 1, 1, 1, 1, 1, 1,\n",
       "       1, 1, 1, 1, 1, 0, 1, 0, 1, 1, 1, 1, 0, 1, 1, 1])"
      ]
     },
     "execution_count": 45,
     "metadata": {},
     "output_type": "execute_result"
    }
   ],
   "source": [
    "km.labels_[:500]"
   ]
  },
  {
   "cell_type": "code",
   "execution_count": 46,
   "metadata": {},
   "outputs": [],
   "source": [
    "labels_km = km.labels_\n",
    "labels_km_df = pd.DataFrame({'labels':labels_km})"
   ]
  },
  {
   "cell_type": "code",
   "execution_count": 47,
   "metadata": {},
   "outputs": [
    {
     "data": {
      "text/plain": [
       "1    10229\n",
       "0     2101\n",
       "Name: labels, dtype: int64"
      ]
     },
     "execution_count": 47,
     "metadata": {},
     "output_type": "execute_result"
    }
   ],
   "source": [
    "labels_km_df['labels'].value_counts()"
   ]
  },
  {
   "cell_type": "code",
   "execution_count": 48,
   "metadata": {},
   "outputs": [],
   "source": [
    "g0 = labels_km_df[labels_km_df['labels']==0]\n",
    "g1 = labels_km_df[labels_km_df['labels']==1]"
   ]
  },
  {
   "cell_type": "markdown",
   "metadata": {},
   "source": [
    "Through Centroids we can identify which column belongs to which cluster"
   ]
  },
  {
   "cell_type": "markdown",
   "metadata": {},
   "source": [
    "## Hierarchical Clustering"
   ]
  },
  {
   "cell_type": "code",
   "execution_count": 94,
   "metadata": {},
   "outputs": [
    {
     "data": {
      "text/html": [
       "<div>\n",
       "<style scoped>\n",
       "    .dataframe tbody tr th:only-of-type {\n",
       "        vertical-align: middle;\n",
       "    }\n",
       "\n",
       "    .dataframe tbody tr th {\n",
       "        vertical-align: top;\n",
       "    }\n",
       "\n",
       "    .dataframe thead th {\n",
       "        text-align: right;\n",
       "    }\n",
       "</style>\n",
       "<table border=\"1\" class=\"dataframe\">\n",
       "  <thead>\n",
       "    <tr style=\"text-align: right;\">\n",
       "      <th></th>\n",
       "      <th>Administrative</th>\n",
       "      <th>Administrative_Duration</th>\n",
       "      <th>Informational</th>\n",
       "      <th>Informational_Duration</th>\n",
       "      <th>ProductRelated</th>\n",
       "      <th>ProductRelated_Duration</th>\n",
       "      <th>BounceRates</th>\n",
       "      <th>ExitRates</th>\n",
       "      <th>PageValues</th>\n",
       "      <th>SpecialDay</th>\n",
       "      <th>Month</th>\n",
       "      <th>OperatingSystems</th>\n",
       "      <th>Browser</th>\n",
       "      <th>Region</th>\n",
       "      <th>TrafficType</th>\n",
       "      <th>VisitorType_New_Visitor</th>\n",
       "      <th>VisitorType_Other</th>\n",
       "      <th>VisitorType_Returning_Visitor</th>\n",
       "      <th>Weekend_encoded</th>\n",
       "      <th>Revenue_encoded</th>\n",
       "    </tr>\n",
       "  </thead>\n",
       "  <tbody>\n",
       "    <tr>\n",
       "      <th>0</th>\n",
       "      <td>-0.696993</td>\n",
       "      <td>-0.457191</td>\n",
       "      <td>-0.396478</td>\n",
       "      <td>-0.244931</td>\n",
       "      <td>-0.691003</td>\n",
       "      <td>-0.624348</td>\n",
       "      <td>3.667189</td>\n",
       "      <td>3.229316</td>\n",
       "      <td>-0.317178</td>\n",
       "      <td>-0.308821</td>\n",
       "      <td>2</td>\n",
       "      <td>1</td>\n",
       "      <td>1</td>\n",
       "      <td>1</td>\n",
       "      <td>1</td>\n",
       "      <td>0</td>\n",
       "      <td>0</td>\n",
       "      <td>1</td>\n",
       "      <td>0</td>\n",
       "      <td>0</td>\n",
       "    </tr>\n",
       "    <tr>\n",
       "      <th>1</th>\n",
       "      <td>-0.696993</td>\n",
       "      <td>-0.457191</td>\n",
       "      <td>-0.396478</td>\n",
       "      <td>-0.244931</td>\n",
       "      <td>-0.668518</td>\n",
       "      <td>-0.590903</td>\n",
       "      <td>-0.457683</td>\n",
       "      <td>1.171473</td>\n",
       "      <td>-0.317178</td>\n",
       "      <td>-0.308821</td>\n",
       "      <td>2</td>\n",
       "      <td>2</td>\n",
       "      <td>2</td>\n",
       "      <td>1</td>\n",
       "      <td>2</td>\n",
       "      <td>0</td>\n",
       "      <td>0</td>\n",
       "      <td>1</td>\n",
       "      <td>0</td>\n",
       "      <td>0</td>\n",
       "    </tr>\n",
       "    <tr>\n",
       "      <th>2</th>\n",
       "      <td>-0.696993</td>\n",
       "      <td>-0.457191</td>\n",
       "      <td>-0.396478</td>\n",
       "      <td>-0.244931</td>\n",
       "      <td>-0.691003</td>\n",
       "      <td>-0.624348</td>\n",
       "      <td>3.667189</td>\n",
       "      <td>3.229316</td>\n",
       "      <td>-0.317178</td>\n",
       "      <td>-0.308821</td>\n",
       "      <td>2</td>\n",
       "      <td>4</td>\n",
       "      <td>1</td>\n",
       "      <td>9</td>\n",
       "      <td>3</td>\n",
       "      <td>0</td>\n",
       "      <td>0</td>\n",
       "      <td>1</td>\n",
       "      <td>0</td>\n",
       "      <td>0</td>\n",
       "    </tr>\n",
       "    <tr>\n",
       "      <th>3</th>\n",
       "      <td>-0.696993</td>\n",
       "      <td>-0.457191</td>\n",
       "      <td>-0.396478</td>\n",
       "      <td>-0.244931</td>\n",
       "      <td>-0.668518</td>\n",
       "      <td>-0.622954</td>\n",
       "      <td>0.573535</td>\n",
       "      <td>1.994610</td>\n",
       "      <td>-0.317178</td>\n",
       "      <td>-0.308821</td>\n",
       "      <td>2</td>\n",
       "      <td>3</td>\n",
       "      <td>2</td>\n",
       "      <td>2</td>\n",
       "      <td>4</td>\n",
       "      <td>0</td>\n",
       "      <td>0</td>\n",
       "      <td>1</td>\n",
       "      <td>0</td>\n",
       "      <td>0</td>\n",
       "    </tr>\n",
       "    <tr>\n",
       "      <th>4</th>\n",
       "      <td>-0.696993</td>\n",
       "      <td>-0.457191</td>\n",
       "      <td>-0.396478</td>\n",
       "      <td>-0.244931</td>\n",
       "      <td>-0.488636</td>\n",
       "      <td>-0.296430</td>\n",
       "      <td>-0.045196</td>\n",
       "      <td>0.142551</td>\n",
       "      <td>-0.317178</td>\n",
       "      <td>-0.308821</td>\n",
       "      <td>2</td>\n",
       "      <td>3</td>\n",
       "      <td>3</td>\n",
       "      <td>1</td>\n",
       "      <td>4</td>\n",
       "      <td>0</td>\n",
       "      <td>0</td>\n",
       "      <td>1</td>\n",
       "      <td>1</td>\n",
       "      <td>0</td>\n",
       "    </tr>\n",
       "  </tbody>\n",
       "</table>\n",
       "</div>"
      ],
      "text/plain": [
       "   Administrative  Administrative_Duration  Informational  \\\n",
       "0       -0.696993                -0.457191      -0.396478   \n",
       "1       -0.696993                -0.457191      -0.396478   \n",
       "2       -0.696993                -0.457191      -0.396478   \n",
       "3       -0.696993                -0.457191      -0.396478   \n",
       "4       -0.696993                -0.457191      -0.396478   \n",
       "\n",
       "   Informational_Duration  ProductRelated  ProductRelated_Duration  \\\n",
       "0               -0.244931       -0.691003                -0.624348   \n",
       "1               -0.244931       -0.668518                -0.590903   \n",
       "2               -0.244931       -0.691003                -0.624348   \n",
       "3               -0.244931       -0.668518                -0.622954   \n",
       "4               -0.244931       -0.488636                -0.296430   \n",
       "\n",
       "   BounceRates  ExitRates  PageValues  SpecialDay  Month  OperatingSystems  \\\n",
       "0     3.667189   3.229316   -0.317178   -0.308821      2                 1   \n",
       "1    -0.457683   1.171473   -0.317178   -0.308821      2                 2   \n",
       "2     3.667189   3.229316   -0.317178   -0.308821      2                 4   \n",
       "3     0.573535   1.994610   -0.317178   -0.308821      2                 3   \n",
       "4    -0.045196   0.142551   -0.317178   -0.308821      2                 3   \n",
       "\n",
       "   Browser  Region  TrafficType  VisitorType_New_Visitor  VisitorType_Other  \\\n",
       "0        1       1            1                        0                  0   \n",
       "1        2       1            2                        0                  0   \n",
       "2        1       9            3                        0                  0   \n",
       "3        2       2            4                        0                  0   \n",
       "4        3       1            4                        0                  0   \n",
       "\n",
       "   VisitorType_Returning_Visitor  Weekend_encoded  Revenue_encoded  \n",
       "0                              1                0                0  \n",
       "1                              1                0                0  \n",
       "2                              1                0                0  \n",
       "3                              1                0                0  \n",
       "4                              1                1                0  "
      ]
     },
     "execution_count": 94,
     "metadata": {},
     "output_type": "execute_result"
    }
   ],
   "source": [
    "df_scaled_new.head()"
   ]
  },
  {
   "cell_type": "code",
   "execution_count": 95,
   "metadata": {},
   "outputs": [],
   "source": [
    "# creating model with complete linkage\n",
    "\n",
    "model1 = AgglomerativeClustering(n_clusters=2, affinity='euclidean', linkage='complete')"
   ]
  },
  {
   "cell_type": "code",
   "execution_count": 96,
   "metadata": {},
   "outputs": [
    {
     "data": {
      "text/plain": [
       "AgglomerativeClustering(affinity='euclidean', compute_full_tree='auto',\n",
       "            connectivity=None, linkage='complete', memory=None,\n",
       "            n_clusters=2, pooling_func='deprecated')"
      ]
     },
     "execution_count": 96,
     "metadata": {},
     "output_type": "execute_result"
    }
   ],
   "source": [
    "model1.fit(df_scaled_new)"
   ]
  },
  {
   "cell_type": "code",
   "execution_count": 97,
   "metadata": {},
   "outputs": [
    {
     "data": {
      "text/plain": [
       "0    12327\n",
       "1        3\n",
       "Name: 0, dtype: int64"
      ]
     },
     "execution_count": 97,
     "metadata": {},
     "output_type": "execute_result"
    }
   ],
   "source": [
    "L = pd.DataFrame(model1.labels_)\n",
    "L[0].value_counts()"
   ]
  },
  {
   "cell_type": "code",
   "execution_count": 98,
   "metadata": {},
   "outputs": [
    {
     "data": {
      "text/plain": [
       "0    12329\n",
       "1        1\n",
       "Name: 0, dtype: int64"
      ]
     },
     "execution_count": 98,
     "metadata": {},
     "output_type": "execute_result"
    }
   ],
   "source": [
    "# creating model with single linkage\n",
    "\n",
    "model2 = AgglomerativeClustering(n_clusters=2, affinity='euclidean', linkage='single')\n",
    "model2.fit(df_scaled_new)\n",
    "\n",
    "L2 = pd.DataFrame(model2.labels_)\n",
    "L2[0].value_counts()"
   ]
  },
  {
   "cell_type": "code",
   "execution_count": 99,
   "metadata": {},
   "outputs": [
    {
     "data": {
      "text/plain": [
       "0    10211\n",
       "1     2119\n",
       "Name: 0, dtype: int64"
      ]
     },
     "execution_count": 99,
     "metadata": {},
     "output_type": "execute_result"
    }
   ],
   "source": [
    "# creating model with ward linkage\n",
    "\n",
    "model3 = AgglomerativeClustering(n_clusters=2, affinity='euclidean', linkage='ward')\n",
    "model3.fit(df_scaled_new)\n",
    "\n",
    "L3 = pd.DataFrame(model3.labels_)\n",
    "L3[0].value_counts()"
   ]
  },
  {
   "cell_type": "code",
   "execution_count": 100,
   "metadata": {},
   "outputs": [
    {
     "data": {
      "text/plain": [
       "0    12327\n",
       "1        3\n",
       "Name: 0, dtype: int64"
      ]
     },
     "execution_count": 100,
     "metadata": {},
     "output_type": "execute_result"
    }
   ],
   "source": [
    "# creating model with average linkage\n",
    "\n",
    "model4 = AgglomerativeClustering(n_clusters=2, affinity='euclidean', linkage='average')\n",
    "model4.fit(df_scaled_new)\n",
    "\n",
    "L4 = pd.DataFrame(model4.labels_)\n",
    "L4[0].value_counts()"
   ]
  },
  {
   "cell_type": "markdown",
   "metadata": {},
   "source": [
    "Inference :  It is quite clear that ward linkage is giving the best clusters out of all the linkages, hence using ward for creating dendogram :"
   ]
  },
  {
   "cell_type": "markdown",
   "metadata": {},
   "source": [
    "### Dendogram :"
   ]
  },
  {
   "cell_type": "code",
   "execution_count": 53,
   "metadata": {},
   "outputs": [
    {
     "data": {
      "image/png": "[encoded data removed]",
      "text/plain": [
       "<Figure size 2160x720 with 1 Axes>"
      ]
     },
     "metadata": {
      "needs_background": "light"
     },
     "output_type": "display_data"
    }
   ],
   "source": [
    "plt.figure(figsize = (30,10))\n",
    "plt.title('Agglomerative Hierarchial Clustering Dendogram')\n",
    "plt.xlabel('Sample index')\n",
    "plt.ylabel('Distance')\n",
    "Z = linkage(df_scaled_new.iloc[:,:-1], 'ward')\n",
    "dendrogram(Z, leaf_rotation = 90.0, p = 5, color_threshold =400,leaf_font_size = 10, truncate_mode = 'level')\n",
    "plt.tight_layout()"
   ]
  },
  {
   "cell_type": "markdown",
   "metadata": {},
   "source": [
    "Looking at the dendogram, we can clearly say that there are majorly 2 main clusters or no.of clusters = 2 is the optimum number"
   ]
  },
  {
   "cell_type": "markdown",
   "metadata": {},
   "source": [
    "### Converting Unsupervised to Supervised : "
   ]
  },
  {
   "cell_type": "code",
   "execution_count": 69,
   "metadata": {},
   "outputs": [],
   "source": [
    "df_category_scaled = df_category_scaled.drop('Revenue_encoded',axis=1)\n",
    "df_original = pd.concat((df_numerical,df_category_scaled),axis=1)\n",
    "df_labelled_km = pd.concat((df_original,labels_km_df),axis=1)"
   ]
  },
  {
   "cell_type": "code",
   "execution_count": 70,
   "metadata": {},
   "outputs": [
    {
     "name": "stdout",
     "output_type": "stream",
     "text": [
      "box plot Administrative\n"
     ]
    },
    {
     "data": {
      "image/png": "[encoded data removed]",
      "text/plain": [
       "<Figure size 432x288 with 1 Axes>"
      ]
     },
     "metadata": {
      "needs_background": "light"
     },
     "output_type": "display_data"
    },
    {
     "name": "stdout",
     "output_type": "stream",
     "text": [
      "box plot Administrative_Duration\n"
     ]
    },
    {
     "data": {
      "image/png": "[encoded data removed]",
      "text/plain": [
       "<Figure size 432x288 with 1 Axes>"
      ]
     },
     "metadata": {
      "needs_background": "light"
     },
     "output_type": "display_data"
    },
    {
     "name": "stdout",
     "output_type": "stream",
     "text": [
      "box plot Informational\n"
     ]
    },
    {
     "data": {
      "image/png": "[encoded data removed]",
      "text/plain": [
       "<Figure size 432x288 with 1 Axes>"
      ]
     },
     "metadata": {
      "needs_background": "light"
     },
     "output_type": "display_data"
    },
    {
     "name": "stdout",
     "output_type": "stream",
     "text": [
      "box plot Informational_Duration\n"
     ]
    },
    {
     "data": {
      "image/png": "[encoded data removed]",
      "text/plain": [
       "<Figure size 432x288 with 1 Axes>"
      ]
     },
     "metadata": {
      "needs_background": "light"
     },
     "output_type": "display_data"
    },
    {
     "name": "stdout",
     "output_type": "stream",
     "text": [
      "box plot ProductRelated\n"
     ]
    },
    {
     "data": {
      "image/png": "[encoded data removed]",
      "text/plain": [
       "<Figure size 432x288 with 1 Axes>"
      ]
     },
     "metadata": {
      "needs_background": "light"
     },
     "output_type": "display_data"
    },
    {
     "name": "stdout",
     "output_type": "stream",
     "text": [
      "box plot ProductRelated_Duration\n"
     ]
    },
    {
     "data": {
      "image/png": "[encoded data removed]",
      "text/plain": [
       "<Figure size 432x288 with 1 Axes>"
      ]
     },
     "metadata": {
      "needs_background": "light"
     },
     "output_type": "display_data"
    },
    {
     "name": "stdout",
     "output_type": "stream",
     "text": [
      "box plot BounceRates\n"
     ]
    },
    {
     "data": {
      "image/png": "[encoded data removed]",
      "text/plain": [
       "<Figure size 432x288 with 1 Axes>"
      ]
     },
     "metadata": {
      "needs_background": "light"
     },
     "output_type": "display_data"
    },
    {
     "name": "stdout",
     "output_type": "stream",
     "text": [
      "box plot ExitRates\n"
     ]
    },
    {
     "data": {
      "image/png": "[encoded data removed]",
      "text/plain": [
       "<Figure size 432x288 with 1 Axes>"
      ]
     },
     "metadata": {
      "needs_background": "light"
     },
     "output_type": "display_data"
    },
    {
     "name": "stdout",
     "output_type": "stream",
     "text": [
      "box plot PageValues\n"
     ]
    },
    {
     "data": {
      "image/png": "[encoded data removed]",
      "text/plain": [
       "<Figure size 432x288 with 1 Axes>"
      ]
     },
     "metadata": {
      "needs_background": "light"
     },
     "output_type": "display_data"
    },
    {
     "name": "stdout",
     "output_type": "stream",
     "text": [
      "box plot SpecialDay\n"
     ]
    },
    {
     "data": {
      "image/png": "[encoded data removed]",
      "text/plain": [
       "<Figure size 432x288 with 1 Axes>"
      ]
     },
     "metadata": {
      "needs_background": "light"
     },
     "output_type": "display_data"
    }
   ],
   "source": [
    "for i in df_numerical:\n",
    "    sns.boxplot(df_labelled_km['labels'],df_labelled_km[i])\n",
    "    print('box plot',i)\n",
    "    plt.show()\n",
    "    "
   ]
  },
  {
   "cell_type": "code",
   "execution_count": 71,
   "metadata": {},
   "outputs": [
    {
     "name": "stdout",
     "output_type": "stream",
     "text": [
      "kde plot Administrative\n"
     ]
    },
    {
     "data": {
      "image/png": "[encoded data removed]",
      "text/plain": [
       "<Figure size 432x288 with 1 Axes>"
      ]
     },
     "metadata": {
      "needs_background": "light"
     },
     "output_type": "display_data"
    },
    {
     "name": "stdout",
     "output_type": "stream",
     "text": [
      "kde plot Administrative_Duration\n"
     ]
    },
    {
     "data": {
      "image/png": "[encoded data removed]",
      "text/plain": [
       "<Figure size 432x288 with 1 Axes>"
      ]
     },
     "metadata": {
      "needs_background": "light"
     },
     "output_type": "display_data"
    },
    {
     "name": "stdout",
     "output_type": "stream",
     "text": [
      "kde plot Informational\n"
     ]
    },
    {
     "data": {
      "image/png": "[encoded data removed]",
      "text/plain": [
       "<Figure size 432x288 with 1 Axes>"
      ]
     },
     "metadata": {
      "needs_background": "light"
     },
     "output_type": "display_data"
    },
    {
     "name": "stdout",
     "output_type": "stream",
     "text": [
      "kde plot Informational_Duration\n"
     ]
    },
    {
     "data": {
      "image/png": "[encoded data removed]",
      "text/plain": [
       "<Figure size 432x288 with 1 Axes>"
      ]
     },
     "metadata": {
      "needs_background": "light"
     },
     "output_type": "display_data"
    },
    {
     "name": "stdout",
     "output_type": "stream",
     "text": [
      "kde plot ProductRelated\n"
     ]
    },
    {
     "data": {
      "image/png": "[encoded data removed]",
      "text/plain": [
       "<Figure size 432x288 with 1 Axes>"
      ]
     },
     "metadata": {
      "needs_background": "light"
     },
     "output_type": "display_data"
    },
    {
     "name": "stdout",
     "output_type": "stream",
     "text": [
      "kde plot ProductRelated_Duration\n"
     ]
    },
    {
     "data": {
      "image/png": "[encoded data removed]",
      "text/plain": [
       "<Figure size 432x288 with 1 Axes>"
      ]
     },
     "metadata": {
      "needs_background": "light"
     },
     "output_type": "display_data"
    },
    {
     "name": "stdout",
     "output_type": "stream",
     "text": [
      "kde plot BounceRates\n"
     ]
    },
    {
     "data": {
      "image/png": "[encoded data removed]",
      "text/plain": [
       "<Figure size 432x288 with 1 Axes>"
      ]
     },
     "metadata": {
      "needs_background": "light"
     },
     "output_type": "display_data"
    },
    {
     "name": "stdout",
     "output_type": "stream",
     "text": [
      "kde plot ExitRates\n"
     ]
    },
    {
     "data": {
      "image/png": "[encoded data removed]",
      "text/plain": [
       "<Figure size 432x288 with 1 Axes>"
      ]
     },
     "metadata": {
      "needs_background": "light"
     },
     "output_type": "display_data"
    },
    {
     "name": "stdout",
     "output_type": "stream",
     "text": [
      "kde plot PageValues\n"
     ]
    },
    {
     "data": {
      "image/png": "[encoded data removed]",
      "text/plain": [
       "<Figure size 432x288 with 1 Axes>"
      ]
     },
     "metadata": {
      "needs_background": "light"
     },
     "output_type": "display_data"
    },
    {
     "name": "stdout",
     "output_type": "stream",
     "text": [
      "kde plot SpecialDay\n"
     ]
    },
    {
     "data": {
      "image/png": "[encoded data removed]",
      "text/plain": [
       "<Figure size 432x288 with 1 Axes>"
      ]
     },
     "metadata": {
      "needs_background": "light"
     },
     "output_type": "display_data"
    }
   ],
   "source": [
    "for i in df_numerical:\n",
    "    df[i].plot(kind='kde')\n",
    "    print('kde plot',i)\n",
    "    plt.show()"
   ]
  },
  {
   "cell_type": "markdown",
   "metadata": {},
   "source": [
    "From box plot we can observe that label 0 has high mean than that of label 1"
   ]
  },
  {
   "cell_type": "markdown",
   "metadata": {},
   "source": [
    "## PCA"
   ]
  },
  {
   "cell_type": "code",
   "execution_count": 72,
   "metadata": {},
   "outputs": [],
   "source": [
    "pca = PCA(n_components=0.95)\n",
    "pca.fit(df_scaled_new)\n",
    "explained_variance = pca.explained_variance_"
   ]
  },
  {
   "cell_type": "code",
   "execution_count": 73,
   "metadata": {},
   "outputs": [
    {
     "name": "stdout",
     "output_type": "stream",
     "text": [
      "explained variance [16.34181102  5.98730989  5.48270836  3.35658345  2.89060634  1.68023656\n",
      "  1.07618671  1.01051114  0.95840544  0.92212078  0.75096136]\n",
      "cummulative variance [16.34181102 22.32912091 27.81182927 31.16841272 34.05901906 35.73925562\n",
      " 36.81544234 37.82595348 38.78435892 39.7064797  40.45744106]\n"
     ]
    }
   ],
   "source": [
    "print('explained variance', explained_variance)\n",
    "print('cummulative variance', np.cumsum(explained_variance))"
   ]
  },
  {
   "cell_type": "code",
   "execution_count": 74,
   "metadata": {},
   "outputs": [],
   "source": [
    "df_D = pca.transform(df_scaled_new)"
   ]
  },
  {
   "cell_type": "code",
   "execution_count": 75,
   "metadata": {},
   "outputs": [
    {
     "data": {
      "text/plain": [
       "KMeans(algorithm='auto', copy_x=True, init='k-means++', max_iter=300,\n",
       "    n_clusters=2, n_init=15, n_jobs=None, precompute_distances='auto',\n",
       "    random_state=2, tol=0.0001, verbose=0)"
      ]
     },
     "execution_count": 75,
     "metadata": {},
     "output_type": "execute_result"
    }
   ],
   "source": [
    "kmeans_pca = KMeans(n_clusters=2,n_init=15, random_state=2)\n",
    "kmeans_pca.fit(df_D)"
   ]
  },
  {
   "cell_type": "code",
   "execution_count": 76,
   "metadata": {},
   "outputs": [
    {
     "data": {
      "text/plain": [
       "338742.1842920154"
      ]
     },
     "execution_count": 76,
     "metadata": {},
     "output_type": "execute_result"
    }
   ],
   "source": [
    "kmeans_pca.inertia_"
   ]
  },
  {
   "cell_type": "code",
   "execution_count": 77,
   "metadata": {},
   "outputs": [
    {
     "data": {
      "text/html": [
       "<div>\n",
       "<style scoped>\n",
       "    .dataframe tbody tr th:only-of-type {\n",
       "        vertical-align: middle;\n",
       "    }\n",
       "\n",
       "    .dataframe tbody tr th {\n",
       "        vertical-align: top;\n",
       "    }\n",
       "\n",
       "    .dataframe thead th {\n",
       "        text-align: right;\n",
       "    }\n",
       "</style>\n",
       "<table border=\"1\" class=\"dataframe\">\n",
       "  <thead>\n",
       "    <tr style=\"text-align: right;\">\n",
       "      <th></th>\n",
       "      <th>PC1</th>\n",
       "      <th>PC2</th>\n",
       "      <th>PC3</th>\n",
       "      <th>PC4</th>\n",
       "      <th>PC5</th>\n",
       "      <th>PC6</th>\n",
       "      <th>PC7</th>\n",
       "      <th>PC8</th>\n",
       "      <th>PC9</th>\n",
       "      <th>PC10</th>\n",
       "      <th>PC11</th>\n",
       "    </tr>\n",
       "  </thead>\n",
       "  <tbody>\n",
       "    <tr>\n",
       "      <th>0</th>\n",
       "      <td>-3.210353</td>\n",
       "      <td>0.258956</td>\n",
       "      <td>-4.003464</td>\n",
       "      <td>-3.064856</td>\n",
       "      <td>-1.391866</td>\n",
       "      <td>3.524422</td>\n",
       "      <td>0.940385</td>\n",
       "      <td>-0.909076</td>\n",
       "      <td>0.569932</td>\n",
       "      <td>-0.164040</td>\n",
       "      <td>-0.877304</td>\n",
       "    </tr>\n",
       "    <tr>\n",
       "      <th>1</th>\n",
       "      <td>-2.248804</td>\n",
       "      <td>0.320235</td>\n",
       "      <td>-3.828641</td>\n",
       "      <td>-1.178557</td>\n",
       "      <td>-0.163228</td>\n",
       "      <td>-0.064939</td>\n",
       "      <td>0.035553</td>\n",
       "      <td>0.160728</td>\n",
       "      <td>-0.135106</td>\n",
       "      <td>-0.300940</td>\n",
       "      <td>0.020112</td>\n",
       "    </tr>\n",
       "    <tr>\n",
       "      <th>2</th>\n",
       "      <td>-0.715630</td>\n",
       "      <td>6.620047</td>\n",
       "      <td>0.688954</td>\n",
       "      <td>-2.768961</td>\n",
       "      <td>-2.174365</td>\n",
       "      <td>3.732099</td>\n",
       "      <td>0.769064</td>\n",
       "      <td>-0.941614</td>\n",
       "      <td>0.735146</td>\n",
       "      <td>-0.162813</td>\n",
       "      <td>1.856058</td>\n",
       "    </tr>\n",
       "    <tr>\n",
       "      <th>3</th>\n",
       "      <td>-0.125692</td>\n",
       "      <td>1.117378</td>\n",
       "      <td>-3.396786</td>\n",
       "      <td>-1.627833</td>\n",
       "      <td>-0.338311</td>\n",
       "      <td>1.025937</td>\n",
       "      <td>0.259938</td>\n",
       "      <td>-0.161989</td>\n",
       "      <td>0.099270</td>\n",
       "      <td>-0.279076</td>\n",
       "      <td>0.886955</td>\n",
       "    </tr>\n",
       "    <tr>\n",
       "      <th>4</th>\n",
       "      <td>-0.174048</td>\n",
       "      <td>0.400033</td>\n",
       "      <td>-3.863743</td>\n",
       "      <td>-0.649847</td>\n",
       "      <td>0.824340</td>\n",
       "      <td>-0.294635</td>\n",
       "      <td>-0.198696</td>\n",
       "      <td>0.117422</td>\n",
       "      <td>-0.060363</td>\n",
       "      <td>-0.418961</td>\n",
       "      <td>0.807354</td>\n",
       "    </tr>\n",
       "    <tr>\n",
       "      <th>5</th>\n",
       "      <td>-1.287749</td>\n",
       "      <td>0.245787</td>\n",
       "      <td>-3.817104</td>\n",
       "      <td>-0.559528</td>\n",
       "      <td>-0.196492</td>\n",
       "      <td>-0.715451</td>\n",
       "      <td>-0.250904</td>\n",
       "      <td>0.208086</td>\n",
       "      <td>-0.115884</td>\n",
       "      <td>-0.400459</td>\n",
       "      <td>0.001668</td>\n",
       "    </tr>\n",
       "    <tr>\n",
       "      <th>6</th>\n",
       "      <td>-0.875129</td>\n",
       "      <td>2.180993</td>\n",
       "      <td>-2.805886</td>\n",
       "      <td>-3.018320</td>\n",
       "      <td>1.289454</td>\n",
       "      <td>3.941263</td>\n",
       "      <td>-0.178370</td>\n",
       "      <td>-0.548711</td>\n",
       "      <td>0.469642</td>\n",
       "      <td>1.419739</td>\n",
       "      <td>-0.453708</td>\n",
       "    </tr>\n",
       "    <tr>\n",
       "      <th>7</th>\n",
       "      <td>0.824141</td>\n",
       "      <td>0.270388</td>\n",
       "      <td>-4.183173</td>\n",
       "      <td>-2.775736</td>\n",
       "      <td>-0.675545</td>\n",
       "      <td>3.491987</td>\n",
       "      <td>1.032178</td>\n",
       "      <td>-0.951078</td>\n",
       "      <td>0.412784</td>\n",
       "      <td>-0.153551</td>\n",
       "      <td>-1.147297</td>\n",
       "    </tr>\n",
       "    <tr>\n",
       "      <th>8</th>\n",
       "      <td>-1.150140</td>\n",
       "      <td>0.972570</td>\n",
       "      <td>-3.195067</td>\n",
       "      <td>-1.438482</td>\n",
       "      <td>-0.335049</td>\n",
       "      <td>0.353241</td>\n",
       "      <td>-2.146151</td>\n",
       "      <td>0.844784</td>\n",
       "      <td>-0.159487</td>\n",
       "      <td>2.952675</td>\n",
       "      <td>-0.107681</td>\n",
       "    </tr>\n",
       "    <tr>\n",
       "      <th>9</th>\n",
       "      <td>-2.140896</td>\n",
       "      <td>0.499650</td>\n",
       "      <td>-3.670702</td>\n",
       "      <td>-0.624216</td>\n",
       "      <td>1.836528</td>\n",
       "      <td>-0.581264</td>\n",
       "      <td>-1.349087</td>\n",
       "      <td>0.656740</td>\n",
       "      <td>-0.274496</td>\n",
       "      <td>1.222776</td>\n",
       "      <td>-0.271471</td>\n",
       "    </tr>\n",
       "    <tr>\n",
       "      <th>10</th>\n",
       "      <td>-1.286354</td>\n",
       "      <td>1.667037</td>\n",
       "      <td>-2.676108</td>\n",
       "      <td>-0.829957</td>\n",
       "      <td>-1.578638</td>\n",
       "      <td>-0.488623</td>\n",
       "      <td>-0.119340</td>\n",
       "      <td>0.240430</td>\n",
       "      <td>-0.132531</td>\n",
       "      <td>-0.357005</td>\n",
       "      <td>-0.895080</td>\n",
       "    </tr>\n",
       "    <tr>\n",
       "      <th>11</th>\n",
       "      <td>-1.225812</td>\n",
       "      <td>2.375539</td>\n",
       "      <td>-2.001749</td>\n",
       "      <td>-0.680630</td>\n",
       "      <td>-1.692076</td>\n",
       "      <td>-0.460104</td>\n",
       "      <td>-1.365956</td>\n",
       "      <td>0.545529</td>\n",
       "      <td>-0.078802</td>\n",
       "      <td>1.220869</td>\n",
       "      <td>-0.944585</td>\n",
       "    </tr>\n",
       "    <tr>\n",
       "      <th>12</th>\n",
       "      <td>-1.396260</td>\n",
       "      <td>0.075786</td>\n",
       "      <td>-3.841787</td>\n",
       "      <td>-0.613683</td>\n",
       "      <td>-1.294795</td>\n",
       "      <td>-0.979999</td>\n",
       "      <td>-0.195671</td>\n",
       "      <td>0.330609</td>\n",
       "      <td>-0.203857</td>\n",
       "      <td>-0.370706</td>\n",
       "      <td>-0.839901</td>\n",
       "    </tr>\n",
       "    <tr>\n",
       "      <th>13</th>\n",
       "      <td>-1.092050</td>\n",
       "      <td>0.692806</td>\n",
       "      <td>-3.792891</td>\n",
       "      <td>-0.806996</td>\n",
       "      <td>2.717476</td>\n",
       "      <td>-0.283428</td>\n",
       "      <td>-0.064803</td>\n",
       "      <td>0.266154</td>\n",
       "      <td>-0.303839</td>\n",
       "      <td>-0.372790</td>\n",
       "      <td>-0.419924</td>\n",
       "    </tr>\n",
       "    <tr>\n",
       "      <th>14</th>\n",
       "      <td>-1.116311</td>\n",
       "      <td>1.905648</td>\n",
       "      <td>-2.681225</td>\n",
       "      <td>-1.081980</td>\n",
       "      <td>-0.356259</td>\n",
       "      <td>-0.017068</td>\n",
       "      <td>-0.014385</td>\n",
       "      <td>0.147619</td>\n",
       "      <td>-0.085267</td>\n",
       "      <td>-0.304937</td>\n",
       "      <td>0.931753</td>\n",
       "    </tr>\n",
       "    <tr>\n",
       "      <th>15</th>\n",
       "      <td>-1.052893</td>\n",
       "      <td>6.295337</td>\n",
       "      <td>1.016777</td>\n",
       "      <td>0.374039</td>\n",
       "      <td>-2.369435</td>\n",
       "      <td>-0.593072</td>\n",
       "      <td>-0.441175</td>\n",
       "      <td>-0.169626</td>\n",
       "      <td>-0.141584</td>\n",
       "      <td>-0.328933</td>\n",
       "      <td>-1.017860</td>\n",
       "    </tr>\n",
       "    <tr>\n",
       "      <th>16</th>\n",
       "      <td>-1.083720</td>\n",
       "      <td>2.564697</td>\n",
       "      <td>-2.315190</td>\n",
       "      <td>-2.919399</td>\n",
       "      <td>-1.910093</td>\n",
       "      <td>3.544059</td>\n",
       "      <td>0.900326</td>\n",
       "      <td>-0.886654</td>\n",
       "      <td>0.578638</td>\n",
       "      <td>-0.190518</td>\n",
       "      <td>-1.008071</td>\n",
       "    </tr>\n",
       "    <tr>\n",
       "      <th>17</th>\n",
       "      <td>-0.413953</td>\n",
       "      <td>0.026829</td>\n",
       "      <td>-3.868257</td>\n",
       "      <td>-0.362902</td>\n",
       "      <td>-1.354710</td>\n",
       "      <td>-1.237100</td>\n",
       "      <td>-0.298745</td>\n",
       "      <td>0.367246</td>\n",
       "      <td>-0.205319</td>\n",
       "      <td>-0.420781</td>\n",
       "      <td>-0.862232</td>\n",
       "    </tr>\n",
       "    <tr>\n",
       "      <th>18</th>\n",
       "      <td>-1.254071</td>\n",
       "      <td>0.292161</td>\n",
       "      <td>-3.882723</td>\n",
       "      <td>-1.147557</td>\n",
       "      <td>-0.224085</td>\n",
       "      <td>-0.090581</td>\n",
       "      <td>0.040056</td>\n",
       "      <td>0.168611</td>\n",
       "      <td>-0.144441</td>\n",
       "      <td>-0.310664</td>\n",
       "      <td>-0.015873</td>\n",
       "    </tr>\n",
       "    <tr>\n",
       "      <th>19</th>\n",
       "      <td>-0.067891</td>\n",
       "      <td>2.778234</td>\n",
       "      <td>-1.963583</td>\n",
       "      <td>0.392169</td>\n",
       "      <td>1.311118</td>\n",
       "      <td>-0.628621</td>\n",
       "      <td>-0.882165</td>\n",
       "      <td>0.014248</td>\n",
       "      <td>0.134498</td>\n",
       "      <td>-0.716840</td>\n",
       "      <td>-0.413847</td>\n",
       "    </tr>\n",
       "    <tr>\n",
       "      <th>20</th>\n",
       "      <td>-3.032505</td>\n",
       "      <td>3.320179</td>\n",
       "      <td>-1.186986</td>\n",
       "      <td>-0.834542</td>\n",
       "      <td>-0.567030</td>\n",
       "      <td>-0.499811</td>\n",
       "      <td>-2.997651</td>\n",
       "      <td>1.249457</td>\n",
       "      <td>-0.252329</td>\n",
       "      <td>3.733868</td>\n",
       "      <td>-0.064958</td>\n",
       "    </tr>\n",
       "    <tr>\n",
       "      <th>21</th>\n",
       "      <td>-1.009622</td>\n",
       "      <td>0.556849</td>\n",
       "      <td>-4.062234</td>\n",
       "      <td>-2.910316</td>\n",
       "      <td>0.700393</td>\n",
       "      <td>3.657543</td>\n",
       "      <td>0.895512</td>\n",
       "      <td>-0.937211</td>\n",
       "      <td>0.560680</td>\n",
       "      <td>-0.195145</td>\n",
       "      <td>0.745429</td>\n",
       "    </tr>\n",
       "    <tr>\n",
       "      <th>22</th>\n",
       "      <td>0.749565</td>\n",
       "      <td>0.245985</td>\n",
       "      <td>-3.931249</td>\n",
       "      <td>-0.596936</td>\n",
       "      <td>-0.179468</td>\n",
       "      <td>-0.886183</td>\n",
       "      <td>-0.161235</td>\n",
       "      <td>0.327716</td>\n",
       "      <td>-0.214558</td>\n",
       "      <td>-0.353918</td>\n",
       "      <td>0.925596</td>\n",
       "    </tr>\n",
       "    <tr>\n",
       "      <th>23</th>\n",
       "      <td>-1.076448</td>\n",
       "      <td>0.464659</td>\n",
       "      <td>-3.754439</td>\n",
       "      <td>-1.419362</td>\n",
       "      <td>1.746882</td>\n",
       "      <td>0.450082</td>\n",
       "      <td>-2.117569</td>\n",
       "      <td>0.864567</td>\n",
       "      <td>-0.257817</td>\n",
       "      <td>2.933797</td>\n",
       "      <td>-0.364915</td>\n",
       "    </tr>\n",
       "    <tr>\n",
       "      <th>24</th>\n",
       "      <td>-2.967196</td>\n",
       "      <td>2.796737</td>\n",
       "      <td>-2.179703</td>\n",
       "      <td>-2.950853</td>\n",
       "      <td>-0.690726</td>\n",
       "      <td>3.661794</td>\n",
       "      <td>0.893431</td>\n",
       "      <td>-0.896154</td>\n",
       "      <td>0.582381</td>\n",
       "      <td>-0.169440</td>\n",
       "      <td>-0.076923</td>\n",
       "    </tr>\n",
       "    <tr>\n",
       "      <th>25</th>\n",
       "      <td>-1.022759</td>\n",
       "      <td>6.388068</td>\n",
       "      <td>0.932847</td>\n",
       "      <td>-0.547494</td>\n",
       "      <td>-2.357679</td>\n",
       "      <td>-0.692809</td>\n",
       "      <td>-0.229598</td>\n",
       "      <td>0.362039</td>\n",
       "      <td>-0.163242</td>\n",
       "      <td>-0.350920</td>\n",
       "      <td>-0.994957</td>\n",
       "    </tr>\n",
       "    <tr>\n",
       "      <th>26</th>\n",
       "      <td>-1.325784</td>\n",
       "      <td>0.148986</td>\n",
       "      <td>-3.717292</td>\n",
       "      <td>0.516518</td>\n",
       "      <td>-0.210356</td>\n",
       "      <td>-0.813344</td>\n",
       "      <td>-0.200701</td>\n",
       "      <td>-0.371918</td>\n",
       "      <td>-0.429443</td>\n",
       "      <td>-0.152033</td>\n",
       "      <td>0.001491</td>\n",
       "    </tr>\n",
       "    <tr>\n",
       "      <th>27</th>\n",
       "      <td>-1.337968</td>\n",
       "      <td>0.122621</td>\n",
       "      <td>-3.935036</td>\n",
       "      <td>-1.437982</td>\n",
       "      <td>-1.364030</td>\n",
       "      <td>0.453981</td>\n",
       "      <td>0.190822</td>\n",
       "      <td>-0.034744</td>\n",
       "      <td>0.010211</td>\n",
       "      <td>-0.299699</td>\n",
       "      <td>-0.876897</td>\n",
       "    </tr>\n",
       "    <tr>\n",
       "      <th>28</th>\n",
       "      <td>-1.024739</td>\n",
       "      <td>0.802852</td>\n",
       "      <td>-3.740047</td>\n",
       "      <td>-0.778187</td>\n",
       "      <td>3.706368</td>\n",
       "      <td>-0.325419</td>\n",
       "      <td>-0.617092</td>\n",
       "      <td>0.508811</td>\n",
       "      <td>-0.400367</td>\n",
       "      <td>0.439512</td>\n",
       "      <td>-0.567058</td>\n",
       "    </tr>\n",
       "    <tr>\n",
       "      <th>29</th>\n",
       "      <td>-3.196453</td>\n",
       "      <td>0.192521</td>\n",
       "      <td>-3.579790</td>\n",
       "      <td>0.113021</td>\n",
       "      <td>0.125400</td>\n",
       "      <td>0.117863</td>\n",
       "      <td>-0.205041</td>\n",
       "      <td>0.206707</td>\n",
       "      <td>2.534092</td>\n",
       "      <td>2.128543</td>\n",
       "      <td>0.905686</td>\n",
       "    </tr>\n",
       "    <tr>\n",
       "      <th>...</th>\n",
       "      <td>...</td>\n",
       "      <td>...</td>\n",
       "      <td>...</td>\n",
       "      <td>...</td>\n",
       "      <td>...</td>\n",
       "      <td>...</td>\n",
       "      <td>...</td>\n",
       "      <td>...</td>\n",
       "      <td>...</td>\n",
       "      <td>...</td>\n",
       "      <td>...</td>\n",
       "    </tr>\n",
       "    <tr>\n",
       "      <th>12300</th>\n",
       "      <td>-1.837060</td>\n",
       "      <td>-0.019723</td>\n",
       "      <td>2.015439</td>\n",
       "      <td>-1.260953</td>\n",
       "      <td>1.744111</td>\n",
       "      <td>-0.012992</td>\n",
       "      <td>-0.038031</td>\n",
       "      <td>0.170417</td>\n",
       "      <td>-0.158381</td>\n",
       "      <td>-0.583682</td>\n",
       "      <td>-0.255167</td>\n",
       "    </tr>\n",
       "    <tr>\n",
       "      <th>12301</th>\n",
       "      <td>-2.901747</td>\n",
       "      <td>-0.326226</td>\n",
       "      <td>1.763448</td>\n",
       "      <td>-3.555484</td>\n",
       "      <td>-1.441728</td>\n",
       "      <td>3.618032</td>\n",
       "      <td>1.056634</td>\n",
       "      <td>-0.846948</td>\n",
       "      <td>0.528718</td>\n",
       "      <td>-0.338859</td>\n",
       "      <td>-0.874743</td>\n",
       "    </tr>\n",
       "    <tr>\n",
       "      <th>12302</th>\n",
       "      <td>-2.782160</td>\n",
       "      <td>-1.934098</td>\n",
       "      <td>0.323503</td>\n",
       "      <td>-1.411612</td>\n",
       "      <td>5.106770</td>\n",
       "      <td>0.328808</td>\n",
       "      <td>0.055930</td>\n",
       "      <td>0.132241</td>\n",
       "      <td>-0.270370</td>\n",
       "      <td>-0.601028</td>\n",
       "      <td>-0.573457</td>\n",
       "    </tr>\n",
       "    <tr>\n",
       "      <th>12303</th>\n",
       "      <td>16.625724</td>\n",
       "      <td>8.213129</td>\n",
       "      <td>-0.552649</td>\n",
       "      <td>0.312852</td>\n",
       "      <td>8.354973</td>\n",
       "      <td>-0.017900</td>\n",
       "      <td>-0.158645</td>\n",
       "      <td>0.459534</td>\n",
       "      <td>-0.689659</td>\n",
       "      <td>-0.638532</td>\n",
       "      <td>-2.314618</td>\n",
       "    </tr>\n",
       "    <tr>\n",
       "      <th>12304</th>\n",
       "      <td>-2.283527</td>\n",
       "      <td>0.869258</td>\n",
       "      <td>-4.521571</td>\n",
       "      <td>-0.171974</td>\n",
       "      <td>-0.074708</td>\n",
       "      <td>-0.767009</td>\n",
       "      <td>-0.522364</td>\n",
       "      <td>0.108500</td>\n",
       "      <td>0.043157</td>\n",
       "      <td>-0.442947</td>\n",
       "      <td>1.010180</td>\n",
       "    </tr>\n",
       "    <tr>\n",
       "      <th>12305</th>\n",
       "      <td>-1.111537</td>\n",
       "      <td>-0.575071</td>\n",
       "      <td>1.981685</td>\n",
       "      <td>-0.504531</td>\n",
       "      <td>-1.336907</td>\n",
       "      <td>-0.918337</td>\n",
       "      <td>-0.549289</td>\n",
       "      <td>0.163112</td>\n",
       "      <td>0.030483</td>\n",
       "      <td>-0.755087</td>\n",
       "      <td>-0.864959</td>\n",
       "    </tr>\n",
       "    <tr>\n",
       "      <th>12306</th>\n",
       "      <td>-2.134412</td>\n",
       "      <td>4.001733</td>\n",
       "      <td>-2.156787</td>\n",
       "      <td>-0.287147</td>\n",
       "      <td>-0.737034</td>\n",
       "      <td>-0.480837</td>\n",
       "      <td>-0.427908</td>\n",
       "      <td>0.124938</td>\n",
       "      <td>0.023549</td>\n",
       "      <td>-0.413698</td>\n",
       "      <td>-0.065504</td>\n",
       "    </tr>\n",
       "    <tr>\n",
       "      <th>12307</th>\n",
       "      <td>-2.325933</td>\n",
       "      <td>0.659985</td>\n",
       "      <td>-4.395937</td>\n",
       "      <td>2.256992</td>\n",
       "      <td>-0.171579</td>\n",
       "      <td>0.944487</td>\n",
       "      <td>1.834775</td>\n",
       "      <td>1.799874</td>\n",
       "      <td>0.929704</td>\n",
       "      <td>0.833082</td>\n",
       "      <td>0.989203</td>\n",
       "    </tr>\n",
       "    <tr>\n",
       "      <th>12308</th>\n",
       "      <td>-3.053871</td>\n",
       "      <td>-1.215225</td>\n",
       "      <td>1.571876</td>\n",
       "      <td>0.115751</td>\n",
       "      <td>-0.008327</td>\n",
       "      <td>-0.219069</td>\n",
       "      <td>-0.943812</td>\n",
       "      <td>-0.422918</td>\n",
       "      <td>0.380292</td>\n",
       "      <td>-0.913477</td>\n",
       "      <td>0.023903</td>\n",
       "    </tr>\n",
       "    <tr>\n",
       "      <th>12309</th>\n",
       "      <td>-2.318103</td>\n",
       "      <td>0.832666</td>\n",
       "      <td>-4.535050</td>\n",
       "      <td>-0.170448</td>\n",
       "      <td>-0.238107</td>\n",
       "      <td>-0.335135</td>\n",
       "      <td>0.058361</td>\n",
       "      <td>-0.258104</td>\n",
       "      <td>-0.402601</td>\n",
       "      <td>-0.052676</td>\n",
       "      <td>0.023854</td>\n",
       "    </tr>\n",
       "    <tr>\n",
       "      <th>12310</th>\n",
       "      <td>-0.804533</td>\n",
       "      <td>2.041666</td>\n",
       "      <td>3.772504</td>\n",
       "      <td>-0.726291</td>\n",
       "      <td>-0.512676</td>\n",
       "      <td>-0.583116</td>\n",
       "      <td>-0.185705</td>\n",
       "      <td>0.147239</td>\n",
       "      <td>-0.163855</td>\n",
       "      <td>-0.516143</td>\n",
       "      <td>0.936048</td>\n",
       "    </tr>\n",
       "    <tr>\n",
       "      <th>12311</th>\n",
       "      <td>-2.218542</td>\n",
       "      <td>-3.048083</td>\n",
       "      <td>0.455746</td>\n",
       "      <td>2.179539</td>\n",
       "      <td>0.132137</td>\n",
       "      <td>0.853015</td>\n",
       "      <td>-1.431266</td>\n",
       "      <td>0.618442</td>\n",
       "      <td>1.158537</td>\n",
       "      <td>-1.431247</td>\n",
       "      <td>-0.031400</td>\n",
       "    </tr>\n",
       "    <tr>\n",
       "      <th>12312</th>\n",
       "      <td>-2.103248</td>\n",
       "      <td>-2.908072</td>\n",
       "      <td>0.763075</td>\n",
       "      <td>4.621192</td>\n",
       "      <td>3.043645</td>\n",
       "      <td>1.627596</td>\n",
       "      <td>-2.816495</td>\n",
       "      <td>-2.698941</td>\n",
       "      <td>1.742028</td>\n",
       "      <td>-1.616634</td>\n",
       "      <td>-0.618086</td>\n",
       "    </tr>\n",
       "    <tr>\n",
       "      <th>12313</th>\n",
       "      <td>-2.365434</td>\n",
       "      <td>0.651386</td>\n",
       "      <td>-4.352573</td>\n",
       "      <td>1.922660</td>\n",
       "      <td>-0.118941</td>\n",
       "      <td>-0.571627</td>\n",
       "      <td>1.864554</td>\n",
       "      <td>1.034571</td>\n",
       "      <td>3.274317</td>\n",
       "      <td>1.111112</td>\n",
       "      <td>-0.086247</td>\n",
       "    </tr>\n",
       "    <tr>\n",
       "      <th>12314</th>\n",
       "      <td>-2.463226</td>\n",
       "      <td>4.651177</td>\n",
       "      <td>-2.570721</td>\n",
       "      <td>-0.662828</td>\n",
       "      <td>8.580636</td>\n",
       "      <td>0.894145</td>\n",
       "      <td>-0.141088</td>\n",
       "      <td>0.014869</td>\n",
       "      <td>-0.207786</td>\n",
       "      <td>-0.396238</td>\n",
       "      <td>1.695927</td>\n",
       "    </tr>\n",
       "    <tr>\n",
       "      <th>12315</th>\n",
       "      <td>6.885880</td>\n",
       "      <td>-2.886326</td>\n",
       "      <td>-0.271605</td>\n",
       "      <td>-0.870955</td>\n",
       "      <td>-0.207893</td>\n",
       "      <td>-0.983927</td>\n",
       "      <td>-0.052911</td>\n",
       "      <td>0.384029</td>\n",
       "      <td>-0.274494</td>\n",
       "      <td>-0.629615</td>\n",
       "      <td>0.771927</td>\n",
       "    </tr>\n",
       "    <tr>\n",
       "      <th>12316</th>\n",
       "      <td>-3.192436</td>\n",
       "      <td>2.369396</td>\n",
       "      <td>-3.298338</td>\n",
       "      <td>-0.215400</td>\n",
       "      <td>-1.125193</td>\n",
       "      <td>-0.392223</td>\n",
       "      <td>-0.633531</td>\n",
       "      <td>-0.090241</td>\n",
       "      <td>0.278031</td>\n",
       "      <td>-0.450349</td>\n",
       "      <td>2.106798</td>\n",
       "    </tr>\n",
       "    <tr>\n",
       "      <th>12317</th>\n",
       "      <td>-2.280123</td>\n",
       "      <td>2.281567</td>\n",
       "      <td>-3.210702</td>\n",
       "      <td>1.217759</td>\n",
       "      <td>-0.476063</td>\n",
       "      <td>-0.601120</td>\n",
       "      <td>-0.738770</td>\n",
       "      <td>-0.747376</td>\n",
       "      <td>0.020921</td>\n",
       "      <td>-0.362898</td>\n",
       "      <td>-0.062829</td>\n",
       "    </tr>\n",
       "    <tr>\n",
       "      <th>12318</th>\n",
       "      <td>5.684778</td>\n",
       "      <td>2.177278</td>\n",
       "      <td>-3.793795</td>\n",
       "      <td>-0.196427</td>\n",
       "      <td>-1.091607</td>\n",
       "      <td>-1.000048</td>\n",
       "      <td>-0.228930</td>\n",
       "      <td>0.375319</td>\n",
       "      <td>-0.258720</td>\n",
       "      <td>-0.435553</td>\n",
       "      <td>-1.276820</td>\n",
       "    </tr>\n",
       "    <tr>\n",
       "      <th>12319</th>\n",
       "      <td>-2.335120</td>\n",
       "      <td>0.828604</td>\n",
       "      <td>-4.516535</td>\n",
       "      <td>-0.072894</td>\n",
       "      <td>-0.181242</td>\n",
       "      <td>-0.962957</td>\n",
       "      <td>-0.465092</td>\n",
       "      <td>0.158691</td>\n",
       "      <td>0.138833</td>\n",
       "      <td>-0.395066</td>\n",
       "      <td>0.009511</td>\n",
       "    </tr>\n",
       "    <tr>\n",
       "      <th>12320</th>\n",
       "      <td>-2.999250</td>\n",
       "      <td>-1.046332</td>\n",
       "      <td>1.429302</td>\n",
       "      <td>-1.419490</td>\n",
       "      <td>-0.003967</td>\n",
       "      <td>-0.359172</td>\n",
       "      <td>0.038485</td>\n",
       "      <td>0.261485</td>\n",
       "      <td>-0.186690</td>\n",
       "      <td>-0.495953</td>\n",
       "      <td>0.093241</td>\n",
       "    </tr>\n",
       "    <tr>\n",
       "      <th>12321</th>\n",
       "      <td>-2.485019</td>\n",
       "      <td>0.646885</td>\n",
       "      <td>1.904817</td>\n",
       "      <td>-3.354310</td>\n",
       "      <td>5.382240</td>\n",
       "      <td>4.053899</td>\n",
       "      <td>1.064957</td>\n",
       "      <td>-0.793549</td>\n",
       "      <td>0.241114</td>\n",
       "      <td>-0.428945</td>\n",
       "      <td>-1.846217</td>\n",
       "    </tr>\n",
       "    <tr>\n",
       "      <th>12322</th>\n",
       "      <td>-2.224361</td>\n",
       "      <td>3.120240</td>\n",
       "      <td>-2.642899</td>\n",
       "      <td>0.859908</td>\n",
       "      <td>-0.622406</td>\n",
       "      <td>-0.835991</td>\n",
       "      <td>-0.024084</td>\n",
       "      <td>-0.481460</td>\n",
       "      <td>-0.669404</td>\n",
       "      <td>0.099880</td>\n",
       "      <td>-0.012360</td>\n",
       "    </tr>\n",
       "    <tr>\n",
       "      <th>12323</th>\n",
       "      <td>5.810846</td>\n",
       "      <td>-2.994870</td>\n",
       "      <td>-0.133931</td>\n",
       "      <td>0.084778</td>\n",
       "      <td>-0.279728</td>\n",
       "      <td>-0.911923</td>\n",
       "      <td>-0.302372</td>\n",
       "      <td>-0.185233</td>\n",
       "      <td>-0.287438</td>\n",
       "      <td>-0.603499</td>\n",
       "      <td>-0.212240</td>\n",
       "    </tr>\n",
       "    <tr>\n",
       "      <th>12324</th>\n",
       "      <td>-3.116673</td>\n",
       "      <td>-2.674649</td>\n",
       "      <td>0.275037</td>\n",
       "      <td>-0.881971</td>\n",
       "      <td>0.249563</td>\n",
       "      <td>-0.443360</td>\n",
       "      <td>-0.029116</td>\n",
       "      <td>0.629651</td>\n",
       "      <td>-0.186550</td>\n",
       "      <td>-0.577089</td>\n",
       "      <td>0.144165</td>\n",
       "    </tr>\n",
       "    <tr>\n",
       "      <th>12325</th>\n",
       "      <td>-3.014686</td>\n",
       "      <td>1.391813</td>\n",
       "      <td>-4.290090</td>\n",
       "      <td>0.957179</td>\n",
       "      <td>4.007931</td>\n",
       "      <td>-0.168003</td>\n",
       "      <td>-0.124847</td>\n",
       "      <td>-0.742158</td>\n",
       "      <td>0.186051</td>\n",
       "      <td>0.041744</td>\n",
       "      <td>1.433420</td>\n",
       "    </tr>\n",
       "    <tr>\n",
       "      <th>12326</th>\n",
       "      <td>3.895750</td>\n",
       "      <td>-2.808071</td>\n",
       "      <td>-0.098777</td>\n",
       "      <td>-0.869617</td>\n",
       "      <td>-0.019187</td>\n",
       "      <td>-1.039872</td>\n",
       "      <td>-0.105616</td>\n",
       "      <td>0.387960</td>\n",
       "      <td>-0.258334</td>\n",
       "      <td>-0.610506</td>\n",
       "      <td>0.883544</td>\n",
       "    </tr>\n",
       "    <tr>\n",
       "      <th>12327</th>\n",
       "      <td>8.938461</td>\n",
       "      <td>-2.902369</td>\n",
       "      <td>-0.473566</td>\n",
       "      <td>-1.633433</td>\n",
       "      <td>-0.411684</td>\n",
       "      <td>0.629736</td>\n",
       "      <td>0.346141</td>\n",
       "      <td>-0.088095</td>\n",
       "      <td>0.023107</td>\n",
       "      <td>-0.598376</td>\n",
       "      <td>0.658167</td>\n",
       "    </tr>\n",
       "    <tr>\n",
       "      <th>12328</th>\n",
       "      <td>6.907258</td>\n",
       "      <td>-1.412150</td>\n",
       "      <td>0.988446</td>\n",
       "      <td>-0.067269</td>\n",
       "      <td>-0.618630</td>\n",
       "      <td>-0.956684</td>\n",
       "      <td>0.249918</td>\n",
       "      <td>-0.125535</td>\n",
       "      <td>-0.742606</td>\n",
       "      <td>-0.263799</td>\n",
       "      <td>-0.247874</td>\n",
       "    </tr>\n",
       "    <tr>\n",
       "      <th>12329</th>\n",
       "      <td>-2.046608</td>\n",
       "      <td>-2.590298</td>\n",
       "      <td>0.177866</td>\n",
       "      <td>-1.505843</td>\n",
       "      <td>0.332590</td>\n",
       "      <td>-0.556864</td>\n",
       "      <td>0.222740</td>\n",
       "      <td>0.319838</td>\n",
       "      <td>-0.241235</td>\n",
       "      <td>-0.446379</td>\n",
       "      <td>1.093977</td>\n",
       "    </tr>\n",
       "  </tbody>\n",
       "</table>\n",
       "<p>12330 rows × 11 columns</p>\n",
       "</div>"
      ],
      "text/plain": [
       "             PC1       PC2       PC3       PC4       PC5       PC6       PC7  \\\n",
       "0      -3.210353  0.258956 -4.003464 -3.064856 -1.391866  3.524422  0.940385   \n",
       "1      -2.248804  0.320235 -3.828641 -1.178557 -0.163228 -0.064939  0.035553   \n",
       "2      -0.715630  6.620047  0.688954 -2.768961 -2.174365  3.732099  0.769064   \n",
       "3      -0.125692  1.117378 -3.396786 -1.627833 -0.338311  1.025937  0.259938   \n",
       "4      -0.174048  0.400033 -3.863743 -0.649847  0.824340 -0.294635 -0.198696   \n",
       "5      -1.287749  0.245787 -3.817104 -0.559528 -0.196492 -0.715451 -0.250904   \n",
       "6      -0.875129  2.180993 -2.805886 -3.018320  1.289454  3.941263 -0.178370   \n",
       "7       0.824141  0.270388 -4.183173 -2.775736 -0.675545  3.491987  1.032178   \n",
       "8      -1.150140  0.972570 -3.195067 -1.438482 -0.335049  0.353241 -2.146151   \n",
       "9      -2.140896  0.499650 -3.670702 -0.624216  1.836528 -0.581264 -1.349087   \n",
       "10     -1.286354  1.667037 -2.676108 -0.829957 -1.578638 -0.488623 -0.119340   \n",
       "11     -1.225812  2.375539 -2.001749 -0.680630 -1.692076 -0.460104 -1.365956   \n",
       "12     -1.396260  0.075786 -3.841787 -0.613683 -1.294795 -0.979999 -0.195671   \n",
       "13     -1.092050  0.692806 -3.792891 -0.806996  2.717476 -0.283428 -0.064803   \n",
       "14     -1.116311  1.905648 -2.681225 -1.081980 -0.356259 -0.017068 -0.014385   \n",
       "15     -1.052893  6.295337  1.016777  0.374039 -2.369435 -0.593072 -0.441175   \n",
       "16     -1.083720  2.564697 -2.315190 -2.919399 -1.910093  3.544059  0.900326   \n",
       "17     -0.413953  0.026829 -3.868257 -0.362902 -1.354710 -1.237100 -0.298745   \n",
       "18     -1.254071  0.292161 -3.882723 -1.147557 -0.224085 -0.090581  0.040056   \n",
       "19     -0.067891  2.778234 -1.963583  0.392169  1.311118 -0.628621 -0.882165   \n",
       "20     -3.032505  3.320179 -1.186986 -0.834542 -0.567030 -0.499811 -2.997651   \n",
       "21     -1.009622  0.556849 -4.062234 -2.910316  0.700393  3.657543  0.895512   \n",
       "22      0.749565  0.245985 -3.931249 -0.596936 -0.179468 -0.886183 -0.161235   \n",
       "23     -1.076448  0.464659 -3.754439 -1.419362  1.746882  0.450082 -2.117569   \n",
       "24     -2.967196  2.796737 -2.179703 -2.950853 -0.690726  3.661794  0.893431   \n",
       "25     -1.022759  6.388068  0.932847 -0.547494 -2.357679 -0.692809 -0.229598   \n",
       "26     -1.325784  0.148986 -3.717292  0.516518 -0.210356 -0.813344 -0.200701   \n",
       "27     -1.337968  0.122621 -3.935036 -1.437982 -1.364030  0.453981  0.190822   \n",
       "28     -1.024739  0.802852 -3.740047 -0.778187  3.706368 -0.325419 -0.617092   \n",
       "29     -3.196453  0.192521 -3.579790  0.113021  0.125400  0.117863 -0.205041   \n",
       "...          ...       ...       ...       ...       ...       ...       ...   \n",
       "12300  -1.837060 -0.019723  2.015439 -1.260953  1.744111 -0.012992 -0.038031   \n",
       "12301  -2.901747 -0.326226  1.763448 -3.555484 -1.441728  3.618032  1.056634   \n",
       "12302  -2.782160 -1.934098  0.323503 -1.411612  5.106770  0.328808  0.055930   \n",
       "12303  16.625724  8.213129 -0.552649  0.312852  8.354973 -0.017900 -0.158645   \n",
       "12304  -2.283527  0.869258 -4.521571 -0.171974 -0.074708 -0.767009 -0.522364   \n",
       "12305  -1.111537 -0.575071  1.981685 -0.504531 -1.336907 -0.918337 -0.549289   \n",
       "12306  -2.134412  4.001733 -2.156787 -0.287147 -0.737034 -0.480837 -0.427908   \n",
       "12307  -2.325933  0.659985 -4.395937  2.256992 -0.171579  0.944487  1.834775   \n",
       "12308  -3.053871 -1.215225  1.571876  0.115751 -0.008327 -0.219069 -0.943812   \n",
       "12309  -2.318103  0.832666 -4.535050 -0.170448 -0.238107 -0.335135  0.058361   \n",
       "12310  -0.804533  2.041666  3.772504 -0.726291 -0.512676 -0.583116 -0.185705   \n",
       "12311  -2.218542 -3.048083  0.455746  2.179539  0.132137  0.853015 -1.431266   \n",
       "12312  -2.103248 -2.908072  0.763075  4.621192  3.043645  1.627596 -2.816495   \n",
       "12313  -2.365434  0.651386 -4.352573  1.922660 -0.118941 -0.571627  1.864554   \n",
       "12314  -2.463226  4.651177 -2.570721 -0.662828  8.580636  0.894145 -0.141088   \n",
       "12315   6.885880 -2.886326 -0.271605 -0.870955 -0.207893 -0.983927 -0.052911   \n",
       "12316  -3.192436  2.369396 -3.298338 -0.215400 -1.125193 -0.392223 -0.633531   \n",
       "12317  -2.280123  2.281567 -3.210702  1.217759 -0.476063 -0.601120 -0.738770   \n",
       "12318   5.684778  2.177278 -3.793795 -0.196427 -1.091607 -1.000048 -0.228930   \n",
       "12319  -2.335120  0.828604 -4.516535 -0.072894 -0.181242 -0.962957 -0.465092   \n",
       "12320  -2.999250 -1.046332  1.429302 -1.419490 -0.003967 -0.359172  0.038485   \n",
       "12321  -2.485019  0.646885  1.904817 -3.354310  5.382240  4.053899  1.064957   \n",
       "12322  -2.224361  3.120240 -2.642899  0.859908 -0.622406 -0.835991 -0.024084   \n",
       "12323   5.810846 -2.994870 -0.133931  0.084778 -0.279728 -0.911923 -0.302372   \n",
       "12324  -3.116673 -2.674649  0.275037 -0.881971  0.249563 -0.443360 -0.029116   \n",
       "12325  -3.014686  1.391813 -4.290090  0.957179  4.007931 -0.168003 -0.124847   \n",
       "12326   3.895750 -2.808071 -0.098777 -0.869617 -0.019187 -1.039872 -0.105616   \n",
       "12327   8.938461 -2.902369 -0.473566 -1.633433 -0.411684  0.629736  0.346141   \n",
       "12328   6.907258 -1.412150  0.988446 -0.067269 -0.618630 -0.956684  0.249918   \n",
       "12329  -2.046608 -2.590298  0.177866 -1.505843  0.332590 -0.556864  0.222740   \n",
       "\n",
       "            PC8       PC9      PC10      PC11  \n",
       "0     -0.909076  0.569932 -0.164040 -0.877304  \n",
       "1      0.160728 -0.135106 -0.300940  0.020112  \n",
       "2     -0.941614  0.735146 -0.162813  1.856058  \n",
       "3     -0.161989  0.099270 -0.279076  0.886955  \n",
       "4      0.117422 -0.060363 -0.418961  0.807354  \n",
       "5      0.208086 -0.115884 -0.400459  0.001668  \n",
       "6     -0.548711  0.469642  1.419739 -0.453708  \n",
       "7     -0.951078  0.412784 -0.153551 -1.147297  \n",
       "8      0.844784 -0.159487  2.952675 -0.107681  \n",
       "9      0.656740 -0.274496  1.222776 -0.271471  \n",
       "10     0.240430 -0.132531 -0.357005 -0.895080  \n",
       "11     0.545529 -0.078802  1.220869 -0.944585  \n",
       "12     0.330609 -0.203857 -0.370706 -0.839901  \n",
       "13     0.266154 -0.303839 -0.372790 -0.419924  \n",
       "14     0.147619 -0.085267 -0.304937  0.931753  \n",
       "15    -0.169626 -0.141584 -0.328933 -1.017860  \n",
       "16    -0.886654  0.578638 -0.190518 -1.008071  \n",
       "17     0.367246 -0.205319 -0.420781 -0.862232  \n",
       "18     0.168611 -0.144441 -0.310664 -0.015873  \n",
       "19     0.014248  0.134498 -0.716840 -0.413847  \n",
       "20     1.249457 -0.252329  3.733868 -0.064958  \n",
       "21    -0.937211  0.560680 -0.195145  0.745429  \n",
       "22     0.327716 -0.214558 -0.353918  0.925596  \n",
       "23     0.864567 -0.257817  2.933797 -0.364915  \n",
       "24    -0.896154  0.582381 -0.169440 -0.076923  \n",
       "25     0.362039 -0.163242 -0.350920 -0.994957  \n",
       "26    -0.371918 -0.429443 -0.152033  0.001491  \n",
       "27    -0.034744  0.010211 -0.299699 -0.876897  \n",
       "28     0.508811 -0.400367  0.439512 -0.567058  \n",
       "29     0.206707  2.534092  2.128543  0.905686  \n",
       "...         ...       ...       ...       ...  \n",
       "12300  0.170417 -0.158381 -0.583682 -0.255167  \n",
       "12301 -0.846948  0.528718 -0.338859 -0.874743  \n",
       "12302  0.132241 -0.270370 -0.601028 -0.573457  \n",
       "12303  0.459534 -0.689659 -0.638532 -2.314618  \n",
       "12304  0.108500  0.043157 -0.442947  1.010180  \n",
       "12305  0.163112  0.030483 -0.755087 -0.864959  \n",
       "12306  0.124938  0.023549 -0.413698 -0.065504  \n",
       "12307  1.799874  0.929704  0.833082  0.989203  \n",
       "12308 -0.422918  0.380292 -0.913477  0.023903  \n",
       "12309 -0.258104 -0.402601 -0.052676  0.023854  \n",
       "12310  0.147239 -0.163855 -0.516143  0.936048  \n",
       "12311  0.618442  1.158537 -1.431247 -0.031400  \n",
       "12312 -2.698941  1.742028 -1.616634 -0.618086  \n",
       "12313  1.034571  3.274317  1.111112 -0.086247  \n",
       "12314  0.014869 -0.207786 -0.396238  1.695927  \n",
       "12315  0.384029 -0.274494 -0.629615  0.771927  \n",
       "12316 -0.090241  0.278031 -0.450349  2.106798  \n",
       "12317 -0.747376  0.020921 -0.362898 -0.062829  \n",
       "12318  0.375319 -0.258720 -0.435553 -1.276820  \n",
       "12319  0.158691  0.138833 -0.395066  0.009511  \n",
       "12320  0.261485 -0.186690 -0.495953  0.093241  \n",
       "12321 -0.793549  0.241114 -0.428945 -1.846217  \n",
       "12322 -0.481460 -0.669404  0.099880 -0.012360  \n",
       "12323 -0.185233 -0.287438 -0.603499 -0.212240  \n",
       "12324  0.629651 -0.186550 -0.577089  0.144165  \n",
       "12325 -0.742158  0.186051  0.041744  1.433420  \n",
       "12326  0.387960 -0.258334 -0.610506  0.883544  \n",
       "12327 -0.088095  0.023107 -0.598376  0.658167  \n",
       "12328 -0.125535 -0.742606 -0.263799 -0.247874  \n",
       "12329  0.319838 -0.241235 -0.446379  1.093977  \n",
       "\n",
       "[12330 rows x 11 columns]"
      ]
     },
     "execution_count": 77,
     "metadata": {},
     "output_type": "execute_result"
    }
   ],
   "source": [
    "df_D_new = pd.DataFrame(df_D,columns=['PC1','PC2','PC3','PC4','PC5','PC6','PC7','PC8','PC9','PC10','PC11'])\n",
    "df_D_new"
   ]
  },
  {
   "cell_type": "code",
   "execution_count": 78,
   "metadata": {},
   "outputs": [
    {
     "data": {
      "text/html": [
       "<div>\n",
       "<style scoped>\n",
       "    .dataframe tbody tr th:only-of-type {\n",
       "        vertical-align: middle;\n",
       "    }\n",
       "\n",
       "    .dataframe tbody tr th {\n",
       "        vertical-align: top;\n",
       "    }\n",
       "\n",
       "    .dataframe thead th {\n",
       "        text-align: right;\n",
       "    }\n",
       "</style>\n",
       "<table border=\"1\" class=\"dataframe\">\n",
       "  <thead>\n",
       "    <tr style=\"text-align: right;\">\n",
       "      <th></th>\n",
       "      <th>PC1</th>\n",
       "      <th>PC2</th>\n",
       "      <th>PC3</th>\n",
       "      <th>PC4</th>\n",
       "      <th>PC5</th>\n",
       "      <th>PC6</th>\n",
       "      <th>PC7</th>\n",
       "      <th>PC8</th>\n",
       "      <th>PC9</th>\n",
       "      <th>PC10</th>\n",
       "      <th>PC11</th>\n",
       "      <th>labels</th>\n",
       "    </tr>\n",
       "  </thead>\n",
       "  <tbody>\n",
       "    <tr>\n",
       "      <th>0</th>\n",
       "      <td>-3.210353</td>\n",
       "      <td>0.258956</td>\n",
       "      <td>-4.003464</td>\n",
       "      <td>-3.064856</td>\n",
       "      <td>-1.391866</td>\n",
       "      <td>3.524422</td>\n",
       "      <td>0.940385</td>\n",
       "      <td>-0.909076</td>\n",
       "      <td>0.569932</td>\n",
       "      <td>-0.164040</td>\n",
       "      <td>-0.877304</td>\n",
       "      <td>0</td>\n",
       "    </tr>\n",
       "    <tr>\n",
       "      <th>1</th>\n",
       "      <td>-2.248804</td>\n",
       "      <td>0.320235</td>\n",
       "      <td>-3.828641</td>\n",
       "      <td>-1.178557</td>\n",
       "      <td>-0.163228</td>\n",
       "      <td>-0.064939</td>\n",
       "      <td>0.035553</td>\n",
       "      <td>0.160728</td>\n",
       "      <td>-0.135106</td>\n",
       "      <td>-0.300940</td>\n",
       "      <td>0.020112</td>\n",
       "      <td>0</td>\n",
       "    </tr>\n",
       "    <tr>\n",
       "      <th>2</th>\n",
       "      <td>-0.715630</td>\n",
       "      <td>6.620047</td>\n",
       "      <td>0.688954</td>\n",
       "      <td>-2.768961</td>\n",
       "      <td>-2.174365</td>\n",
       "      <td>3.732099</td>\n",
       "      <td>0.769064</td>\n",
       "      <td>-0.941614</td>\n",
       "      <td>0.735146</td>\n",
       "      <td>-0.162813</td>\n",
       "      <td>1.856058</td>\n",
       "      <td>0</td>\n",
       "    </tr>\n",
       "    <tr>\n",
       "      <th>3</th>\n",
       "      <td>-0.125692</td>\n",
       "      <td>1.117378</td>\n",
       "      <td>-3.396786</td>\n",
       "      <td>-1.627833</td>\n",
       "      <td>-0.338311</td>\n",
       "      <td>1.025937</td>\n",
       "      <td>0.259938</td>\n",
       "      <td>-0.161989</td>\n",
       "      <td>0.099270</td>\n",
       "      <td>-0.279076</td>\n",
       "      <td>0.886955</td>\n",
       "      <td>0</td>\n",
       "    </tr>\n",
       "    <tr>\n",
       "      <th>4</th>\n",
       "      <td>-0.174048</td>\n",
       "      <td>0.400033</td>\n",
       "      <td>-3.863743</td>\n",
       "      <td>-0.649847</td>\n",
       "      <td>0.824340</td>\n",
       "      <td>-0.294635</td>\n",
       "      <td>-0.198696</td>\n",
       "      <td>0.117422</td>\n",
       "      <td>-0.060363</td>\n",
       "      <td>-0.418961</td>\n",
       "      <td>0.807354</td>\n",
       "      <td>0</td>\n",
       "    </tr>\n",
       "  </tbody>\n",
       "</table>\n",
       "</div>"
      ],
      "text/plain": [
       "        PC1       PC2       PC3       PC4       PC5       PC6       PC7  \\\n",
       "0 -3.210353  0.258956 -4.003464 -3.064856 -1.391866  3.524422  0.940385   \n",
       "1 -2.248804  0.320235 -3.828641 -1.178557 -0.163228 -0.064939  0.035553   \n",
       "2 -0.715630  6.620047  0.688954 -2.768961 -2.174365  3.732099  0.769064   \n",
       "3 -0.125692  1.117378 -3.396786 -1.627833 -0.338311  1.025937  0.259938   \n",
       "4 -0.174048  0.400033 -3.863743 -0.649847  0.824340 -0.294635 -0.198696   \n",
       "\n",
       "        PC8       PC9      PC10      PC11  labels  \n",
       "0 -0.909076  0.569932 -0.164040 -0.877304       0  \n",
       "1  0.160728 -0.135106 -0.300940  0.020112       0  \n",
       "2 -0.941614  0.735146 -0.162813  1.856058       0  \n",
       "3 -0.161989  0.099270 -0.279076  0.886955       0  \n",
       "4  0.117422 -0.060363 -0.418961  0.807354       0  "
      ]
     },
     "execution_count": 78,
     "metadata": {},
     "output_type": "execute_result"
    }
   ],
   "source": [
    "labels = kmeans_pca.labels_\n",
    "df_D_new['labels']=labels\n",
    "df_D_new.head()"
   ]
  },
  {
   "cell_type": "code",
   "execution_count": 79,
   "metadata": {},
   "outputs": [],
   "source": [
    "g_kn = df_D_new.groupby('labels')"
   ]
  },
  {
   "cell_type": "code",
   "execution_count": 80,
   "metadata": {},
   "outputs": [],
   "source": [
    "g0_kn = g_kn.get_group(0)\n",
    "g1_kn = g_kn.get_group(1)"
   ]
  },
  {
   "cell_type": "markdown",
   "metadata": {},
   "source": [
    "### Applying hierarchichal to PCA transformed data"
   ]
  },
  {
   "cell_type": "code",
   "execution_count": 81,
   "metadata": {},
   "outputs": [
    {
     "data": {
      "text/plain": [
       "AgglomerativeClustering(affinity='euclidean', compute_full_tree='auto',\n",
       "            connectivity=None, linkage='ward', memory=None, n_clusters=2,\n",
       "            pooling_func='deprecated')"
      ]
     },
     "execution_count": 81,
     "metadata": {},
     "output_type": "execute_result"
    }
   ],
   "source": [
    "df_D_new = df_D_new.drop('labels',axis=1)\n",
    "agg = AgglomerativeClustering(n_clusters=2)\n",
    "agg.fit(df_D_new)"
   ]
  },
  {
   "cell_type": "code",
   "execution_count": 82,
   "metadata": {},
   "outputs": [
    {
     "data": {
      "text/html": [
       "<div>\n",
       "<style scoped>\n",
       "    .dataframe tbody tr th:only-of-type {\n",
       "        vertical-align: middle;\n",
       "    }\n",
       "\n",
       "    .dataframe tbody tr th {\n",
       "        vertical-align: top;\n",
       "    }\n",
       "\n",
       "    .dataframe thead th {\n",
       "        text-align: right;\n",
       "    }\n",
       "</style>\n",
       "<table border=\"1\" class=\"dataframe\">\n",
       "  <thead>\n",
       "    <tr style=\"text-align: right;\">\n",
       "      <th></th>\n",
       "      <th>PC1</th>\n",
       "      <th>PC2</th>\n",
       "      <th>PC3</th>\n",
       "      <th>PC4</th>\n",
       "      <th>PC5</th>\n",
       "      <th>PC6</th>\n",
       "      <th>PC7</th>\n",
       "      <th>PC8</th>\n",
       "      <th>PC9</th>\n",
       "      <th>PC10</th>\n",
       "      <th>PC11</th>\n",
       "      <th>labels</th>\n",
       "    </tr>\n",
       "  </thead>\n",
       "  <tbody>\n",
       "    <tr>\n",
       "      <th>0</th>\n",
       "      <td>-3.210353</td>\n",
       "      <td>0.258956</td>\n",
       "      <td>-4.003464</td>\n",
       "      <td>-3.064856</td>\n",
       "      <td>-1.391866</td>\n",
       "      <td>3.524422</td>\n",
       "      <td>0.940385</td>\n",
       "      <td>-0.909076</td>\n",
       "      <td>0.569932</td>\n",
       "      <td>-0.164040</td>\n",
       "      <td>-0.877304</td>\n",
       "      <td>0</td>\n",
       "    </tr>\n",
       "    <tr>\n",
       "      <th>1</th>\n",
       "      <td>-2.248804</td>\n",
       "      <td>0.320235</td>\n",
       "      <td>-3.828641</td>\n",
       "      <td>-1.178557</td>\n",
       "      <td>-0.163228</td>\n",
       "      <td>-0.064939</td>\n",
       "      <td>0.035553</td>\n",
       "      <td>0.160728</td>\n",
       "      <td>-0.135106</td>\n",
       "      <td>-0.300940</td>\n",
       "      <td>0.020112</td>\n",
       "      <td>0</td>\n",
       "    </tr>\n",
       "    <tr>\n",
       "      <th>2</th>\n",
       "      <td>-0.715630</td>\n",
       "      <td>6.620047</td>\n",
       "      <td>0.688954</td>\n",
       "      <td>-2.768961</td>\n",
       "      <td>-2.174365</td>\n",
       "      <td>3.732099</td>\n",
       "      <td>0.769064</td>\n",
       "      <td>-0.941614</td>\n",
       "      <td>0.735146</td>\n",
       "      <td>-0.162813</td>\n",
       "      <td>1.856058</td>\n",
       "      <td>0</td>\n",
       "    </tr>\n",
       "    <tr>\n",
       "      <th>3</th>\n",
       "      <td>-0.125692</td>\n",
       "      <td>1.117378</td>\n",
       "      <td>-3.396786</td>\n",
       "      <td>-1.627833</td>\n",
       "      <td>-0.338311</td>\n",
       "      <td>1.025937</td>\n",
       "      <td>0.259938</td>\n",
       "      <td>-0.161989</td>\n",
       "      <td>0.099270</td>\n",
       "      <td>-0.279076</td>\n",
       "      <td>0.886955</td>\n",
       "      <td>0</td>\n",
       "    </tr>\n",
       "    <tr>\n",
       "      <th>4</th>\n",
       "      <td>-0.174048</td>\n",
       "      <td>0.400033</td>\n",
       "      <td>-3.863743</td>\n",
       "      <td>-0.649847</td>\n",
       "      <td>0.824340</td>\n",
       "      <td>-0.294635</td>\n",
       "      <td>-0.198696</td>\n",
       "      <td>0.117422</td>\n",
       "      <td>-0.060363</td>\n",
       "      <td>-0.418961</td>\n",
       "      <td>0.807354</td>\n",
       "      <td>0</td>\n",
       "    </tr>\n",
       "  </tbody>\n",
       "</table>\n",
       "</div>"
      ],
      "text/plain": [
       "        PC1       PC2       PC3       PC4       PC5       PC6       PC7  \\\n",
       "0 -3.210353  0.258956 -4.003464 -3.064856 -1.391866  3.524422  0.940385   \n",
       "1 -2.248804  0.320235 -3.828641 -1.178557 -0.163228 -0.064939  0.035553   \n",
       "2 -0.715630  6.620047  0.688954 -2.768961 -2.174365  3.732099  0.769064   \n",
       "3 -0.125692  1.117378 -3.396786 -1.627833 -0.338311  1.025937  0.259938   \n",
       "4 -0.174048  0.400033 -3.863743 -0.649847  0.824340 -0.294635 -0.198696   \n",
       "\n",
       "        PC8       PC9      PC10      PC11  labels  \n",
       "0 -0.909076  0.569932 -0.164040 -0.877304       0  \n",
       "1  0.160728 -0.135106 -0.300940  0.020112       0  \n",
       "2 -0.941614  0.735146 -0.162813  1.856058       0  \n",
       "3 -0.161989  0.099270 -0.279076  0.886955       0  \n",
       "4  0.117422 -0.060363 -0.418961  0.807354       0  "
      ]
     },
     "execution_count": 82,
     "metadata": {},
     "output_type": "execute_result"
    }
   ],
   "source": [
    "df_D_new['labels']=agg.labels_\n",
    "df_D_new.head()"
   ]
  },
  {
   "cell_type": "code",
   "execution_count": 83,
   "metadata": {},
   "outputs": [],
   "source": [
    "g_agg = df_D_new.groupby('labels')\n",
    "g0_agg = g_agg.get_group(0)\n",
    "g1_agg= g_agg.get_group(1)"
   ]
  },
  {
   "cell_type": "code",
   "execution_count": 84,
   "metadata": {},
   "outputs": [
    {
     "data": {
      "image/png": "[encoded data removed]",
      "text/plain": [
       "<Figure size 432x288 with 1 Axes>"
      ]
     },
     "metadata": {
      "needs_background": "light"
     },
     "output_type": "display_data"
    },
    {
     "data": {
      "image/png": "[encoded data removed]",
      "text/plain": [
       "<Figure size 432x288 with 1 Axes>"
      ]
     },
     "metadata": {
      "needs_background": "light"
     },
     "output_type": "display_data"
    },
    {
     "data": {
      "image/png": "[encoded data removed]",
      "text/plain": [
       "<Figure size 432x288 with 1 Axes>"
      ]
     },
     "metadata": {
      "needs_background": "light"
     },
     "output_type": "display_data"
    },
    {
     "data": {
      "image/png": "[encoded data removed]",
      "text/plain": [
       "<Figure size 432x288 with 1 Axes>"
      ]
     },
     "metadata": {
      "needs_background": "light"
     },
     "output_type": "display_data"
    },
    {
     "data": {
      "image/png": "[encoded data removed]",
      "text/plain": [
       "<Figure size 432x288 with 1 Axes>"
      ]
     },
     "metadata": {
      "needs_background": "light"
     },
     "output_type": "display_data"
    },
    {
     "data": {
      "image/png": "[encoded data removed]",
      "text/plain": [
       "<Figure size 432x288 with 1 Axes>"
      ]
     },
     "metadata": {
      "needs_background": "light"
     },
     "output_type": "display_data"
    },
    {
     "data": {
      "image/png": "[encoded data removed]",
      "text/plain": [
       "<Figure size 432x288 with 1 Axes>"
      ]
     },
     "metadata": {
      "needs_background": "light"
     },
     "output_type": "display_data"
    },
    {
     "data": {
      "image/png": "[encoded data removed]",
      "text/plain": [
       "<Figure size 432x288 with 1 Axes>"
      ]
     },
     "metadata": {
      "needs_background": "light"
     },
     "output_type": "display_data"
    },
    {
     "data": {
      "image/png": "[encoded data removed]",
      "text/plain": [
       "<Figure size 432x288 with 1 Axes>"
      ]
     },
     "metadata": {
      "needs_background": "light"
     },
     "output_type": "display_data"
    },
    {
     "data": {
      "image/png": "[encoded data removed]",
      "text/plain": [
       "<Figure size 432x288 with 1 Axes>"
      ]
     },
     "metadata": {
      "needs_background": "light"
     },
     "output_type": "display_data"
    },
    {
     "data": {
      "image/png": "[encoded data removed]",
      "text/plain": [
       "<Figure size 432x288 with 1 Axes>"
      ]
     },
     "metadata": {
      "needs_background": "light"
     },
     "output_type": "display_data"
    },
    {
     "data": {
      "image/png": "[encoded data removed]",
      "text/plain": [
       "<Figure size 432x288 with 1 Axes>"
      ]
     },
     "metadata": {
      "needs_background": "light"
     },
     "output_type": "display_data"
    }
   ],
   "source": [
    "for i in df_D_new.iloc[::-1].columns:\n",
    "    sns.boxplot(x='labels',y=i,data=df_D_new)\n",
    "    plt.show()"
   ]
  },
  {
   "cell_type": "markdown",
   "metadata": {},
   "source": [
    "###  Data Split (without PCA) and model building :"
   ]
  },
  {
   "cell_type": "code",
   "execution_count": 86,
   "metadata": {},
   "outputs": [],
   "source": [
    "import warnings\n",
    "warnings.filterwarnings('ignore')\n",
    "from sklearn.metrics import confusion_matrix,roc_auc_score,roc_curve,accuracy_score, classification_report\n",
    "from sklearn import metrics\n",
    "from sklearn.model_selection import train_test_split\n",
    "from sklearn.tree import DecisionTreeClassifier\n",
    "from sklearn.linear_model import LogisticRegression\n",
    "from sklearn.neighbors import KNeighborsClassifier\n",
    "from sklearn.naive_bayes import GaussianNB"
   ]
  },
  {
   "cell_type": "code",
   "execution_count": 87,
   "metadata": {},
   "outputs": [],
   "source": [
    "X= df_scaled_new\n",
    "y= df_labelled_km['labels']\n",
    "X_train,X_test,y_train,y_test = train_test_split(X,y,test_size=0.30,random_state=42)"
   ]
  },
  {
   "cell_type": "markdown",
   "metadata": {},
   "source": [
    "### (1) Logistic Regression :"
   ]
  },
  {
   "cell_type": "code",
   "execution_count": 101,
   "metadata": {},
   "outputs": [],
   "source": [
    "lr = LogisticRegression()\n",
    "model = lr.fit(X_train,y_train)\n",
    "y_pred_LR = model.predict(X_test)\n",
    "lr_train=model.score(X_train,y_train)\n",
    "lr_test=accuracy_score(y_test,y_pred)\n",
    "lr_precision = metrics.precision_score(y_test,y_pred)\n",
    "lr_recall = metrics.recall_score(y_test,y_pred)\n",
    "lr_f1 = metrics.f1_score(y_test,y_pred)\n",
    "lr_roc = metrics.roc_auc_score(y_test,y_pred)"
   ]
  },
  {
   "cell_type": "code",
   "execution_count": 102,
   "metadata": {},
   "outputs": [
    {
     "name": "stdout",
     "output_type": "stream",
     "text": [
      "              precision    recall  f1-score   support\n",
      "\n",
      "           0       0.99      1.00      0.99       617\n",
      "           1       1.00      1.00      1.00      3082\n",
      "\n",
      "   micro avg       1.00      1.00      1.00      3699\n",
      "   macro avg       0.99      1.00      1.00      3699\n",
      "weighted avg       1.00      1.00      1.00      3699\n",
      "\n"
     ]
    }
   ],
   "source": [
    "print(classification_report(y_test,y_pred_LR))"
   ]
  },
  {
   "cell_type": "markdown",
   "metadata": {},
   "source": [
    "### (2) Decision Tree :"
   ]
  },
  {
   "cell_type": "code",
   "execution_count": 89,
   "metadata": {},
   "outputs": [],
   "source": [
    "dt = DecisionTreeClassifier(max_depth=10)\n",
    "dt.fit(X_train,y_train)\n",
    "y_pred_dt = dt.predict(X_test)\n",
    "dt_train = dt.score(X_train,y_train)\n",
    "dt_test = accuracy_score(y_test,y_pred_dt)\n",
    "dt_precision = metrics.precision_score(y_test,y_pred_dt)\n",
    "dt_recall = metrics.recall_score(y_test,y_pred_dt)\n",
    "dt_auc = metrics.roc_auc_score(y_test,y_pred_dt)\n",
    "dt_f1 = metrics.f1_score(y_test,y_pred_dt)\n",
    "dt_roc = metrics.roc_auc_score(y_test,y_pred_dt)"
   ]
  },
  {
   "cell_type": "code",
   "execution_count": 103,
   "metadata": {},
   "outputs": [
    {
     "name": "stdout",
     "output_type": "stream",
     "text": [
      "              precision    recall  f1-score   support\n",
      "\n",
      "           0       1.00      1.00      1.00       617\n",
      "           1       1.00      1.00      1.00      3082\n",
      "\n",
      "   micro avg       1.00      1.00      1.00      3699\n",
      "   macro avg       1.00      1.00      1.00      3699\n",
      "weighted avg       1.00      1.00      1.00      3699\n",
      "\n"
     ]
    }
   ],
   "source": [
    "print(classification_report(y_test,y_pred_dt))"
   ]
  },
  {
   "cell_type": "markdown",
   "metadata": {},
   "source": [
    "### (3) KNN"
   ]
  },
  {
   "cell_type": "code",
   "execution_count": 90,
   "metadata": {},
   "outputs": [],
   "source": [
    "knn_clf = KNeighborsClassifier(n_neighbors = 5)\n",
    "knn_clf = knn_clf.fit(X_train, y_train)\n",
    "y_pred_knn = knn_clf.predict(X_test)\n",
    "knn_train=model.score(X_train,y_train)\n",
    "knn_test=accuracy_score(y_test,y_pred_knn)\n",
    "knn_precision = metrics.precision_score(y_test,y_pred_knn)\n",
    "knn_recall = metrics.recall_score(y_test,y_pred_knn)\n",
    "knn_f1 = metrics.f1_score(y_test,y_pred_knn)\n",
    "knn_roc = metrics.roc_auc_score(y_test,y_pred_knn)"
   ]
  },
  {
   "cell_type": "code",
   "execution_count": 104,
   "metadata": {},
   "outputs": [
    {
     "name": "stdout",
     "output_type": "stream",
     "text": [
      "              precision    recall  f1-score   support\n",
      "\n",
      "           0       0.99      0.99      0.99       617\n",
      "           1       1.00      1.00      1.00      3082\n",
      "\n",
      "   micro avg       1.00      1.00      1.00      3699\n",
      "   macro avg       0.99      0.99      0.99      3699\n",
      "weighted avg       1.00      1.00      1.00      3699\n",
      "\n"
     ]
    }
   ],
   "source": [
    "print(classification_report(y_test,y_pred_knn))"
   ]
  },
  {
   "cell_type": "markdown",
   "metadata": {},
   "source": [
    "### (4) Naive Bayes :"
   ]
  },
  {
   "cell_type": "code",
   "execution_count": 91,
   "metadata": {},
   "outputs": [],
   "source": [
    "nb = GaussianNB()\n",
    "nb.fit(X_train,y_train)\n",
    "y_pred_nb = knn_clf.predict(X_test)\n",
    "nb_train = nb.score(X_train,y_train)\n",
    "nb_test = accuracy_score(y_test,y_pred_nb)\n",
    "nb_precision = metrics.precision_score(y_test,y_pred_nb)\n",
    "nb_recall = metrics.recall_score(y_test,y_pred_nb)\n",
    "nb_f1 = metrics.f1_score(y_test,y_pred_nb)\n",
    "nb_roc = metrics.roc_auc_score(y_test,y_pred_nb)"
   ]
  },
  {
   "cell_type": "code",
   "execution_count": 105,
   "metadata": {},
   "outputs": [
    {
     "name": "stdout",
     "output_type": "stream",
     "text": [
      "              precision    recall  f1-score   support\n",
      "\n",
      "           0       0.99      0.99      0.99       617\n",
      "           1       1.00      1.00      1.00      3082\n",
      "\n",
      "   micro avg       1.00      1.00      1.00      3699\n",
      "   macro avg       0.99      0.99      0.99      3699\n",
      "weighted avg       1.00      1.00      1.00      3699\n",
      "\n"
     ]
    }
   ],
   "source": [
    "print(classification_report(y_test,y_pred_nb))"
   ]
  },
  {
   "cell_type": "code",
   "execution_count": 130,
   "metadata": {},
   "outputs": [],
   "source": [
    "report_without_pca = {'Training accuracy':[lr_train, dt_train, knn_train, nb_train],\n",
    "           'Precision':[lr_precision, dt_precision, knn_precision, nb_precision],\n",
    "           'Recall':[lr_recall, dt_recall, knn_recall, nb_recall],\n",
    "           'Test_score':[lr_test, dt_test, knn_test, nb_test],\n",
    "            'f1_score':[lr_f1,dt_f1,knn_f1,nb_f1],\n",
    "            'roc_curve':[lr_roc,dt_roc,knn_roc,nb_roc]\n",
    "           }"
   ]
  },
  {
   "cell_type": "code",
   "execution_count": 131,
   "metadata": {},
   "outputs": [
    {
     "data": {
      "text/html": [
       "<div>\n",
       "<style scoped>\n",
       "    .dataframe tbody tr th:only-of-type {\n",
       "        vertical-align: middle;\n",
       "    }\n",
       "\n",
       "    .dataframe tbody tr th {\n",
       "        vertical-align: top;\n",
       "    }\n",
       "\n",
       "    .dataframe thead th {\n",
       "        text-align: right;\n",
       "    }\n",
       "</style>\n",
       "<table border=\"1\" class=\"dataframe\">\n",
       "  <thead>\n",
       "    <tr style=\"text-align: right;\">\n",
       "      <th></th>\n",
       "      <th>Training accuracy</th>\n",
       "      <th>Precision</th>\n",
       "      <th>Recall</th>\n",
       "      <th>Test_score</th>\n",
       "      <th>f1_score</th>\n",
       "      <th>roc_curve</th>\n",
       "    </tr>\n",
       "  </thead>\n",
       "  <tbody>\n",
       "    <tr>\n",
       "      <th>Logistic Regression</th>\n",
       "      <td>0.988182</td>\n",
       "      <td>0.960128</td>\n",
       "      <td>0.945055</td>\n",
       "      <td>0.983779</td>\n",
       "      <td>0.952532</td>\n",
       "      <td>0.968445</td>\n",
       "    </tr>\n",
       "    <tr>\n",
       "      <th>Decision Tree</th>\n",
       "      <td>0.992469</td>\n",
       "      <td>0.946625</td>\n",
       "      <td>0.946625</td>\n",
       "      <td>0.981617</td>\n",
       "      <td>0.946625</td>\n",
       "      <td>0.967760</td>\n",
       "    </tr>\n",
       "    <tr>\n",
       "      <th>KNN</th>\n",
       "      <td>0.988182</td>\n",
       "      <td>0.984252</td>\n",
       "      <td>0.981162</td>\n",
       "      <td>0.994052</td>\n",
       "      <td>0.982704</td>\n",
       "      <td>0.988948</td>\n",
       "    </tr>\n",
       "    <tr>\n",
       "      <th>NaiveBayes</th>\n",
       "      <td>0.978681</td>\n",
       "      <td>0.984252</td>\n",
       "      <td>0.981162</td>\n",
       "      <td>0.994052</td>\n",
       "      <td>0.982704</td>\n",
       "      <td>0.988948</td>\n",
       "    </tr>\n",
       "  </tbody>\n",
       "</table>\n",
       "</div>"
      ],
      "text/plain": [
       "                     Training accuracy  Precision    Recall  Test_score  \\\n",
       "Logistic Regression           0.988182   0.960128  0.945055    0.983779   \n",
       "Decision Tree                 0.992469   0.946625  0.946625    0.981617   \n",
       "KNN                           0.988182   0.984252  0.981162    0.994052   \n",
       "NaiveBayes                    0.978681   0.984252  0.981162    0.994052   \n",
       "\n",
       "                     f1_score  roc_curve  \n",
       "Logistic Regression  0.952532   0.968445  \n",
       "Decision Tree        0.946625   0.967760  \n",
       "KNN                  0.982704   0.988948  \n",
       "NaiveBayes           0.982704   0.988948  "
      ]
     },
     "execution_count": 131,
     "metadata": {},
     "output_type": "execute_result"
    }
   ],
   "source": [
    "report1_df = pd.DataFrame(report_without_pca, index = ['Logistic Regression','Decision Tree','KNN','NaiveBayes'])\n",
    "report1_df"
   ]
  },
  {
   "cell_type": "markdown",
   "metadata": {},
   "source": [
    "#### Inference :"
   ]
  },
  {
   "cell_type": "markdown",
   "metadata": {},
   "source": [
    "    1) Through metrices we have identified that Decision Tree is the best model. But, as we know Decision Tree is an over fitting model.\n",
    "\n",
    "    2) Logistic Regression has more area under ROC curve.\n",
    "\n",
    "    3) The test and train scores are also very similar in logistic regression\n",
    "\n",
    "    4) Precision and Recall are highest for Decision Tree\n",
    "\n",
    "    5) Precision and Recall are similar for all other models\n",
    "\n",
    "    6) f1 score is highest for Decision Tree. "
   ]
  },
  {
   "cell_type": "markdown",
   "metadata": {},
   "source": [
    "### Data Split (with PCA) and model building :"
   ]
  },
  {
   "cell_type": "code",
   "execution_count": 106,
   "metadata": {},
   "outputs": [],
   "source": [
    "X = df_D_new.drop('labels',axis=1)\n",
    "y = df_D_new['labels']\n",
    "X_train,X_test,y_train,y_test = train_test_split(X,y,test_size=0.30,random_state=42)"
   ]
  },
  {
   "cell_type": "markdown",
   "metadata": {},
   "source": [
    "### (1) Logistic Regression :"
   ]
  },
  {
   "cell_type": "code",
   "execution_count": 107,
   "metadata": {},
   "outputs": [],
   "source": [
    "lr = LogisticRegression()\n",
    "model = lr.fit(X_train,y_train)\n",
    "y_pred = model.predict(X_test)\n",
    "lr_train=model.score(X_train,y_train)\n",
    "lr_test=accuracy_score(y_test,y_pred)\n",
    "lr_precision = metrics.precision_score(y_test,y_pred)\n",
    "lr_recall = metrics.recall_score(y_test,y_pred)\n",
    "lr_f1 = metrics.f1_score(y_test,y_pred)\n",
    "lr_roc = metrics.roc_auc_score(y_test,y_pred)"
   ]
  },
  {
   "cell_type": "markdown",
   "metadata": {},
   "source": [
    "### (2) Decision Tree :"
   ]
  },
  {
   "cell_type": "code",
   "execution_count": 108,
   "metadata": {},
   "outputs": [],
   "source": [
    "dt = DecisionTreeClassifier(max_depth=5)\n",
    "dt.fit(X_train,y_train)\n",
    "y_pred_dt = dt.predict(X_test)\n",
    "dt_train = dt.score(X_train,y_train)\n",
    "dt_test = accuracy_score(y_test,y_pred_dt)\n",
    "dt_precision = metrics.precision_score(y_test,y_pred_dt)\n",
    "dt_recall = metrics.recall_score(y_test,y_pred_dt)\n",
    "dt_auc = metrics.roc_auc_score(y_test,y_pred_dt)\n",
    "dt_f1 = metrics.f1_score(y_test,y_pred_dt)\n",
    "dt_roc = metrics.roc_auc_score(y_test,y_pred_dt)"
   ]
  },
  {
   "cell_type": "markdown",
   "metadata": {},
   "source": [
    "### (3) KNN"
   ]
  },
  {
   "cell_type": "code",
   "execution_count": 109,
   "metadata": {},
   "outputs": [],
   "source": [
    "knn_clf = KNeighborsClassifier(n_neighbors = 5)\n",
    "knn_clf = knn_clf.fit(X_train, y_train)\n",
    "y_pred_knn = knn_clf.predict(X_test)\n",
    "knn_train=model.score(X_train,y_train)\n",
    "knn_test=accuracy_score(y_test,y_pred_knn)\n",
    "knn_precision = metrics.precision_score(y_test,y_pred_knn)\n",
    "knn_recall = metrics.recall_score(y_test,y_pred_knn)\n",
    "knn_f1 = metrics.f1_score(y_test,y_pred_knn)\n",
    "knn_roc = metrics.roc_auc_score(y_test,y_pred_knn)"
   ]
  },
  {
   "cell_type": "markdown",
   "metadata": {},
   "source": [
    "### (4) Naive Bayes :"
   ]
  },
  {
   "cell_type": "code",
   "execution_count": 110,
   "metadata": {},
   "outputs": [],
   "source": [
    "nb = GaussianNB()\n",
    "nb.fit(X_train,y_train)\n",
    "y_pred_nb = knn_clf.predict(X_test)\n",
    "nb_train = nb.score(X_train,y_train)\n",
    "nb_test = accuracy_score(y_test,y_pred_nb)\n",
    "nb_precision = metrics.precision_score(y_test,y_pred_nb)\n",
    "nb_recall = metrics.recall_score(y_test,y_pred_nb)\n",
    "nb_f1 = metrics.f1_score(y_test,y_pred_nb)\n",
    "nb_roc = metrics.roc_auc_score(y_test,y_pred_nb)"
   ]
  },
  {
   "cell_type": "code",
   "execution_count": 135,
   "metadata": {},
   "outputs": [],
   "source": [
    "report_after_pca = {'Training accuracy':[lr_train, dt_train, knn_train, nb_train],\n",
    "           'Precision':[lr_precision, dt_precision, knn_precision, nb_precision],\n",
    "           'Recall':[lr_recall, dt_recall, knn_recall, nb_recall],\n",
    "           'Test_score':[lr_test, dt_test, knn_test, nb_test],\n",
    "            'f1_score':[lr_f1,dt_f1,knn_f1,nb_f1],\n",
    "            'roc_curve':[lr_roc,dt_roc,knn_roc,nb_roc]\n",
    "           }"
   ]
  },
  {
   "cell_type": "code",
   "execution_count": 136,
   "metadata": {},
   "outputs": [
    {
     "data": {
      "text/html": [
       "<div>\n",
       "<style scoped>\n",
       "    .dataframe tbody tr th:only-of-type {\n",
       "        vertical-align: middle;\n",
       "    }\n",
       "\n",
       "    .dataframe tbody tr th {\n",
       "        vertical-align: top;\n",
       "    }\n",
       "\n",
       "    .dataframe thead th {\n",
       "        text-align: right;\n",
       "    }\n",
       "</style>\n",
       "<table border=\"1\" class=\"dataframe\">\n",
       "  <thead>\n",
       "    <tr style=\"text-align: right;\">\n",
       "      <th></th>\n",
       "      <th>Training accuracy</th>\n",
       "      <th>Precision</th>\n",
       "      <th>Recall</th>\n",
       "      <th>Test_score</th>\n",
       "      <th>f1_score</th>\n",
       "      <th>roc_curve</th>\n",
       "    </tr>\n",
       "  </thead>\n",
       "  <tbody>\n",
       "    <tr>\n",
       "      <th>Logistic_Regression-pca</th>\n",
       "      <td>0.988182</td>\n",
       "      <td>0.960128</td>\n",
       "      <td>0.945055</td>\n",
       "      <td>0.983779</td>\n",
       "      <td>0.952532</td>\n",
       "      <td>0.968445</td>\n",
       "    </tr>\n",
       "    <tr>\n",
       "      <th>Decision_Tree-pca</th>\n",
       "      <td>0.992469</td>\n",
       "      <td>0.946625</td>\n",
       "      <td>0.946625</td>\n",
       "      <td>0.981617</td>\n",
       "      <td>0.946625</td>\n",
       "      <td>0.967760</td>\n",
       "    </tr>\n",
       "    <tr>\n",
       "      <th>KNN-pca</th>\n",
       "      <td>0.988182</td>\n",
       "      <td>0.984252</td>\n",
       "      <td>0.981162</td>\n",
       "      <td>0.994052</td>\n",
       "      <td>0.982704</td>\n",
       "      <td>0.988948</td>\n",
       "    </tr>\n",
       "    <tr>\n",
       "      <th>NaiveBayes-pca</th>\n",
       "      <td>0.978681</td>\n",
       "      <td>0.984252</td>\n",
       "      <td>0.981162</td>\n",
       "      <td>0.994052</td>\n",
       "      <td>0.982704</td>\n",
       "      <td>0.988948</td>\n",
       "    </tr>\n",
       "  </tbody>\n",
       "</table>\n",
       "</div>"
      ],
      "text/plain": [
       "                         Training accuracy  Precision    Recall  Test_score  \\\n",
       "Logistic_Regression-pca           0.988182   0.960128  0.945055    0.983779   \n",
       "Decision_Tree-pca                 0.992469   0.946625  0.946625    0.981617   \n",
       "KNN-pca                           0.988182   0.984252  0.981162    0.994052   \n",
       "NaiveBayes-pca                    0.978681   0.984252  0.981162    0.994052   \n",
       "\n",
       "                         f1_score  roc_curve  \n",
       "Logistic_Regression-pca  0.952532   0.968445  \n",
       "Decision_Tree-pca        0.946625   0.967760  \n",
       "KNN-pca                  0.982704   0.988948  \n",
       "NaiveBayes-pca           0.982704   0.988948  "
      ]
     },
     "execution_count": 136,
     "metadata": {},
     "output_type": "execute_result"
    }
   ],
   "source": [
    "report2_df = pd.DataFrame(report_after_pca, index = ['Logistic_Regression-pca','Decision_Tree-pca','KNN-pca','NaiveBayes-pca'])\n",
    "report2_df"
   ]
  },
  {
   "cell_type": "markdown",
   "metadata": {},
   "source": [
    "Train and Test score are logistic regression since the value is very close\n",
    "\n",
    "Decision Tree and KNN have better score but slightly under fitting and over fitting models.\n",
    "\n",
    "f1 score is similar for KNN and Naive Bayes\n",
    "\n",
    "roc_curve is similar and highest for KNN and Naive Bayes\n",
    "\n",
    "Precision and Recall is also high for KNN and Naive Bayes\n",
    "\n",
    "Connsidering all the score, we can choose between KNN and Naive Bayes."
   ]
  },
  {
   "cell_type": "markdown",
   "metadata": {},
   "source": [
    "##  Final Model : "
   ]
  },
  {
   "cell_type": "code",
   "execution_count": 137,
   "metadata": {},
   "outputs": [
    {
     "data": {
      "text/html": [
       "<div>\n",
       "<style scoped>\n",
       "    .dataframe tbody tr th:only-of-type {\n",
       "        vertical-align: middle;\n",
       "    }\n",
       "\n",
       "    .dataframe tbody tr th {\n",
       "        vertical-align: top;\n",
       "    }\n",
       "\n",
       "    .dataframe thead th {\n",
       "        text-align: right;\n",
       "    }\n",
       "</style>\n",
       "<table border=\"1\" class=\"dataframe\">\n",
       "  <thead>\n",
       "    <tr style=\"text-align: right;\">\n",
       "      <th></th>\n",
       "      <th>Training accuracy</th>\n",
       "      <th>Precision</th>\n",
       "      <th>Recall</th>\n",
       "      <th>Test_score</th>\n",
       "      <th>f1_score</th>\n",
       "      <th>roc_curve</th>\n",
       "    </tr>\n",
       "  </thead>\n",
       "  <tbody>\n",
       "    <tr>\n",
       "      <th>Logistic Regression</th>\n",
       "      <td>0.988182</td>\n",
       "      <td>0.960128</td>\n",
       "      <td>0.945055</td>\n",
       "      <td>0.983779</td>\n",
       "      <td>0.952532</td>\n",
       "      <td>0.968445</td>\n",
       "    </tr>\n",
       "    <tr>\n",
       "      <th>Decision Tree</th>\n",
       "      <td>0.992469</td>\n",
       "      <td>0.946625</td>\n",
       "      <td>0.946625</td>\n",
       "      <td>0.981617</td>\n",
       "      <td>0.946625</td>\n",
       "      <td>0.967760</td>\n",
       "    </tr>\n",
       "    <tr>\n",
       "      <th>KNN</th>\n",
       "      <td>0.988182</td>\n",
       "      <td>0.984252</td>\n",
       "      <td>0.981162</td>\n",
       "      <td>0.994052</td>\n",
       "      <td>0.982704</td>\n",
       "      <td>0.988948</td>\n",
       "    </tr>\n",
       "    <tr>\n",
       "      <th>NaiveBayes</th>\n",
       "      <td>0.978681</td>\n",
       "      <td>0.984252</td>\n",
       "      <td>0.981162</td>\n",
       "      <td>0.994052</td>\n",
       "      <td>0.982704</td>\n",
       "      <td>0.988948</td>\n",
       "    </tr>\n",
       "    <tr>\n",
       "      <th>Logistic_Regression-pca</th>\n",
       "      <td>0.988182</td>\n",
       "      <td>0.960128</td>\n",
       "      <td>0.945055</td>\n",
       "      <td>0.983779</td>\n",
       "      <td>0.952532</td>\n",
       "      <td>0.968445</td>\n",
       "    </tr>\n",
       "    <tr>\n",
       "      <th>Decision_Tree-pca</th>\n",
       "      <td>0.992469</td>\n",
       "      <td>0.946625</td>\n",
       "      <td>0.946625</td>\n",
       "      <td>0.981617</td>\n",
       "      <td>0.946625</td>\n",
       "      <td>0.967760</td>\n",
       "    </tr>\n",
       "    <tr>\n",
       "      <th>KNN-pca</th>\n",
       "      <td>0.988182</td>\n",
       "      <td>0.984252</td>\n",
       "      <td>0.981162</td>\n",
       "      <td>0.994052</td>\n",
       "      <td>0.982704</td>\n",
       "      <td>0.988948</td>\n",
       "    </tr>\n",
       "    <tr>\n",
       "      <th>NaiveBayes-pca</th>\n",
       "      <td>0.978681</td>\n",
       "      <td>0.984252</td>\n",
       "      <td>0.981162</td>\n",
       "      <td>0.994052</td>\n",
       "      <td>0.982704</td>\n",
       "      <td>0.988948</td>\n",
       "    </tr>\n",
       "  </tbody>\n",
       "</table>\n",
       "</div>"
      ],
      "text/plain": [
       "                         Training accuracy  Precision    Recall  Test_score  \\\n",
       "Logistic Regression               0.988182   0.960128  0.945055    0.983779   \n",
       "Decision Tree                     0.992469   0.946625  0.946625    0.981617   \n",
       "KNN                               0.988182   0.984252  0.981162    0.994052   \n",
       "NaiveBayes                        0.978681   0.984252  0.981162    0.994052   \n",
       "Logistic_Regression-pca           0.988182   0.960128  0.945055    0.983779   \n",
       "Decision_Tree-pca                 0.992469   0.946625  0.946625    0.981617   \n",
       "KNN-pca                           0.988182   0.984252  0.981162    0.994052   \n",
       "NaiveBayes-pca                    0.978681   0.984252  0.981162    0.994052   \n",
       "\n",
       "                         f1_score  roc_curve  \n",
       "Logistic Regression      0.952532   0.968445  \n",
       "Decision Tree            0.946625   0.967760  \n",
       "KNN                      0.982704   0.988948  \n",
       "NaiveBayes               0.982704   0.988948  \n",
       "Logistic_Regression-pca  0.952532   0.968445  \n",
       "Decision_Tree-pca        0.946625   0.967760  \n",
       "KNN-pca                  0.982704   0.988948  \n",
       "NaiveBayes-pca           0.982704   0.988948  "
      ]
     },
     "execution_count": 137,
     "metadata": {},
     "output_type": "execute_result"
    }
   ],
   "source": [
    "Final_Score = pd.concat((report1_df,report2_df),axis=0)\n",
    "Final_Score"
   ]
  },
  {
   "cell_type": "markdown",
   "metadata": {},
   "source": [
    "#### Inference :"
   ]
  },
  {
   "cell_type": "markdown",
   "metadata": {},
   "source": [
    "1)If we see all the metrices, DECISION TREE before PCA has highest and better scores.\n",
    "\n",
    "2)Taking other models into consideration, the area under ROC curve has been maximum for Logistic Regression before PCA. Then, KNN and Naive bayes before PCA and then KNN and Naive Bayes after performing PCA.\n",
    "\n",
    "3)f1 score has been high for Logistic Regression before PCA and followed by KNN and Naive Bayes before and after performing the PCA\n",
    "\n",
    "4)Test and Train accuracy has been very much close for logistic regression.\n",
    "\n",
    "5)Precision and Recall has been highest for Logistic Regresion before PCA.\n",
    "\n",
    "6)Considering all the metrices and scores,Logistic Regression before PCA performs the best among all."
   ]
  },
  {
   "cell_type": "code",
   "execution_count": null,
   "metadata": {},
   "outputs": [],
   "source": []
  }
 ],
 "metadata": {
  "kernelspec": {
   "display_name": "Python 3",
   "language": "python",
   "name": "python3"
  },
  "language_info": {
   "codemirror_mode": {
    "name": "ipython",
    "version": 3
   },
   "file_extension": ".py",
   "mimetype": "text/x-python",
   "name": "python",
   "nbconvert_exporter": "python",
   "pygments_lexer": "ipython3",
   "version": "3.7.3"
  }
 },
 "nbformat": 4,
 "nbformat_minor": 2
}
